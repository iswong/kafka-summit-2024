{
 "cells": [
  {
   "cell_type": "markdown",
   "source": [
    "# Kafka Summit 2024"
   ],
   "metadata": {
    "collapsed": false
   },
   "id": "bcdca54ecd7dd96"
  },
  {
   "cell_type": "markdown",
   "source": [
    "## Install Kafka / Redpanda\n",
    "\n",
    "https://kafka.apache.org/quickstart"
   ],
   "metadata": {
    "collapsed": false
   },
   "id": "10b00326239e6509"
  },
  {
   "cell_type": "markdown",
   "source": [
    "## Install Apache Flink\n",
    "\n",
    "https://nightlies.apache.org/flink/flink-docs-release-1.18/docs/try-flink/local_installation/"
   ],
   "metadata": {
    "collapsed": false
   },
   "id": "c42545f948944835"
  },
  {
   "cell_type": "markdown",
   "source": [
    "## Install Python packages"
   ],
   "metadata": {
    "collapsed": false
   },
   "id": "638652dc12a6ee0d"
  },
  {
   "cell_type": "code",
   "outputs": [],
   "source": [
    "!pip install -r requirements.txt"
   ],
   "metadata": {
    "collapsed": false
   },
   "id": "49a0feb1c85170e2"
  },
  {
   "cell_type": "markdown",
   "source": [
    "## Let's start"
   ],
   "metadata": {
    "collapsed": false
   },
   "id": "defeff6ada0a23ea"
  },
  {
   "cell_type": "code",
   "execution_count": 1,
   "id": "initial_id",
   "metadata": {
    "collapsed": true,
    "ExecuteTime": {
     "end_time": "2024-03-21T20:34:47.763660Z",
     "start_time": "2024-03-21T20:34:47.751962Z"
    }
   },
   "outputs": [],
   "source": [
    "%load_ext autoreload\n",
    "%autoreload 2"
   ]
  },
  {
   "cell_type": "code",
   "outputs": [],
   "source": [
    "from IPython.display import display\n",
    "from confluent_kafka.admin import AdminClient, NewTopic\n",
    "from confluent_kafka import Producer, Consumer, KafkaException\n",
    "import pandas as pd\n",
    "import numpy as np\n",
    "import json\n",
    "from tqdm import tqdm"
   ],
   "metadata": {
    "collapsed": false,
    "ExecuteTime": {
     "end_time": "2024-03-21T20:34:50.425604Z",
     "start_time": "2024-03-21T20:34:49.893416Z"
    }
   },
   "id": "6c1f659ae635ccdb",
   "execution_count": 2
  },
  {
   "cell_type": "markdown",
   "source": [
    "## Kafka config"
   ],
   "metadata": {
    "collapsed": false
   },
   "id": "2270a313e09c2605"
  },
  {
   "cell_type": "code",
   "outputs": [
    {
     "data": {
      "text/plain": "{'flink.servers': 'localhost:8081',\n 'kafka.brokers': 'localhost:51932',\n 'kafka.topic.price.name': 'local.price',\n 'kafka.topic.holding.name': 'local.holding',\n 'kafka.topic.order.name': 'local.order'}"
     },
     "execution_count": 3,
     "metadata": {},
     "output_type": "execute_result"
    }
   ],
   "source": [
    "with open('../config.json') as fp:\n",
    "    config_obj = json.load(fp)\n",
    "config_obj"
   ],
   "metadata": {
    "collapsed": false,
    "ExecuteTime": {
     "end_time": "2024-03-21T20:34:56.894718Z",
     "start_time": "2024-03-21T20:34:56.879338Z"
    }
   },
   "id": "56cbbc525de77890",
   "execution_count": 3
  },
  {
   "cell_type": "code",
   "outputs": [],
   "source": [
    "conf = {\n",
    "    'bootstrap.servers': config_obj['kafka.brokers']\n",
    "}\n",
    "producer = Producer(conf)\n",
    "\n",
    "price_topic_name = config_obj['kafka.topic.price.name']\n",
    "holding_topic_name = config_obj['kafka.topic.holding.name']\n",
    "order_topic_name = config_obj['kafka.topic.order.name']"
   ],
   "metadata": {
    "collapsed": false,
    "ExecuteTime": {
     "end_time": "2024-03-21T20:39:11.968535Z",
     "start_time": "2024-03-21T20:39:11.907533Z"
    }
   },
   "id": "85a5fb282138946f",
   "execution_count": 11
  },
  {
   "cell_type": "markdown",
   "source": [
    "## Create topics"
   ],
   "metadata": {
    "collapsed": false
   },
   "id": "76ed4b2bb20d14d8"
  },
  {
   "cell_type": "code",
   "outputs": [
    {
     "data": {
      "text/plain": "{'local.order': <Future at 0x108963cd0 state=running>}"
     },
     "execution_count": 57,
     "metadata": {},
     "output_type": "execute_result"
    }
   ],
   "source": [
    "admin = AdminClient(conf)\n",
    "\n",
    "price_topic = NewTopic(price_topic_name, num_partitions=3, replication_factor=1)\n",
    "admin.create_topics([price_topic])\n",
    "\n",
    "holding_topic = NewTopic(holding_topic_name, num_partitions=3, replication_factor=1)\n",
    "admin.create_topics([holding_topic])\n",
    "\n",
    "order_topic = NewTopic(order_topic_name, num_partitions=3, replication_factor=1)\n",
    "admin.create_topics([order_topic])"
   ],
   "metadata": {
    "collapsed": false,
    "ExecuteTime": {
     "end_time": "2024-03-21T09:10:43.485162Z",
     "start_time": "2024-03-21T09:10:43.463549Z"
    }
   },
   "id": "7773c5592953c4a2",
   "execution_count": 57
  },
  {
   "cell_type": "code",
   "outputs": [
    {
     "name": "stdout",
     "output_type": "stream",
     "text": [
      "CLUSTER\r\n",
      "=======\r\n",
      "redpanda.998fd8e2-ed31-46f1-96d4-20f7bd02855b\r\n",
      "\r\n",
      "BROKERS\r\n",
      "=======\r\n",
      "ID    HOST       PORT\r\n",
      "0*    127.0.0.1  51932\r\n",
      "\r\n",
      "TOPICS\r\n",
      "======\r\n",
      "NAME                PARTITIONS  REPLICAS\r\n",
      "__consumer_offsets  3           1\r\n",
      "holding_topic       1           1\r\n",
      "local.holding       3           1\r\n",
      "local.order         3           1\r\n",
      "local.price         3           1\r\n",
      "\r\n"
     ]
    }
   ],
   "source": [
    "!rpk cluster info"
   ],
   "metadata": {
    "collapsed": false,
    "ExecuteTime": {
     "end_time": "2024-03-21T09:11:54.601748Z",
     "start_time": "2024-03-21T09:11:54.377121Z"
    }
   },
   "id": "a2c4fa5e3370ca54",
   "execution_count": 5
  },
  {
   "cell_type": "markdown",
   "source": [
    "## Prepare sample price data"
   ],
   "metadata": {
    "collapsed": false
   },
   "id": "5501eba0c5dafc4f"
  },
  {
   "cell_type": "code",
   "outputs": [
    {
     "data": {
      "text/plain": "      symbol                                               name   exchange  \\\n0          A                           Agilent Technologies Inc       NYSE   \n1         AA                                         Alcoa Corp       NYSE   \n2        AAA                    AXS First Priority CLO Bond ETF  NYSE ARCA   \n3       AAAU                    Goldman Sachs Physical Gold ETF       BATS   \n4       AACG                              ATA Creativity Global     NASDAQ   \n...      ...                                                ...        ...   \n11597    ZWS                    Zurn Elkay Water Solutions Corp       NYSE   \n11601   ZYME                                   Zymeworks BC Inc     NASDAQ   \n11603   ZYRX                        Global Earnings Capital Ltd     NASDAQ   \n11604   ZYXI                                          Zynex Inc     NASDAQ   \n11606    ZZZ  Cyber Hornet S&P 500 and Bitcoin 75 /25 Strate...     NASDAQ   \n\n      assetType  status   price  \n0         Stock  Active  147.39  \n1         Stock  Active   29.67  \n2           ETF  Active   25.14  \n3           ETF  Active   21.36  \n4         Stock  Active    1.40  \n...         ...     ...     ...  \n11597     Stock  Active   32.13  \n11601     Stock  Active   10.53  \n11603     Stock  Active  161.00  \n11604     Stock  Active   12.93  \n11606       ETF  Active   24.12  \n\n[9886 rows x 6 columns]",
      "text/html": "<div>\n<style scoped>\n    .dataframe tbody tr th:only-of-type {\n        vertical-align: middle;\n    }\n\n    .dataframe tbody tr th {\n        vertical-align: top;\n    }\n\n    .dataframe thead th {\n        text-align: right;\n    }\n</style>\n<table border=\"1\" class=\"dataframe\">\n  <thead>\n    <tr style=\"text-align: right;\">\n      <th></th>\n      <th>symbol</th>\n      <th>name</th>\n      <th>exchange</th>\n      <th>assetType</th>\n      <th>status</th>\n      <th>price</th>\n    </tr>\n  </thead>\n  <tbody>\n    <tr>\n      <th>0</th>\n      <td>A</td>\n      <td>Agilent Technologies Inc</td>\n      <td>NYSE</td>\n      <td>Stock</td>\n      <td>Active</td>\n      <td>147.39</td>\n    </tr>\n    <tr>\n      <th>1</th>\n      <td>AA</td>\n      <td>Alcoa Corp</td>\n      <td>NYSE</td>\n      <td>Stock</td>\n      <td>Active</td>\n      <td>29.67</td>\n    </tr>\n    <tr>\n      <th>2</th>\n      <td>AAA</td>\n      <td>AXS First Priority CLO Bond ETF</td>\n      <td>NYSE ARCA</td>\n      <td>ETF</td>\n      <td>Active</td>\n      <td>25.14</td>\n    </tr>\n    <tr>\n      <th>3</th>\n      <td>AAAU</td>\n      <td>Goldman Sachs Physical Gold ETF</td>\n      <td>BATS</td>\n      <td>ETF</td>\n      <td>Active</td>\n      <td>21.36</td>\n    </tr>\n    <tr>\n      <th>4</th>\n      <td>AACG</td>\n      <td>ATA Creativity Global</td>\n      <td>NASDAQ</td>\n      <td>Stock</td>\n      <td>Active</td>\n      <td>1.40</td>\n    </tr>\n    <tr>\n      <th>...</th>\n      <td>...</td>\n      <td>...</td>\n      <td>...</td>\n      <td>...</td>\n      <td>...</td>\n      <td>...</td>\n    </tr>\n    <tr>\n      <th>11597</th>\n      <td>ZWS</td>\n      <td>Zurn Elkay Water Solutions Corp</td>\n      <td>NYSE</td>\n      <td>Stock</td>\n      <td>Active</td>\n      <td>32.13</td>\n    </tr>\n    <tr>\n      <th>11601</th>\n      <td>ZYME</td>\n      <td>Zymeworks BC Inc</td>\n      <td>NASDAQ</td>\n      <td>Stock</td>\n      <td>Active</td>\n      <td>10.53</td>\n    </tr>\n    <tr>\n      <th>11603</th>\n      <td>ZYRX</td>\n      <td>Global Earnings Capital Ltd</td>\n      <td>NASDAQ</td>\n      <td>Stock</td>\n      <td>Active</td>\n      <td>161.00</td>\n    </tr>\n    <tr>\n      <th>11604</th>\n      <td>ZYXI</td>\n      <td>Zynex Inc</td>\n      <td>NASDAQ</td>\n      <td>Stock</td>\n      <td>Active</td>\n      <td>12.93</td>\n    </tr>\n    <tr>\n      <th>11606</th>\n      <td>ZZZ</td>\n      <td>Cyber Hornet S&amp;P 500 and Bitcoin 75 /25 Strate...</td>\n      <td>NASDAQ</td>\n      <td>ETF</td>\n      <td>Active</td>\n      <td>24.12</td>\n    </tr>\n  </tbody>\n</table>\n<p>9886 rows × 6 columns</p>\n</div>"
     },
     "execution_count": 9,
     "metadata": {},
     "output_type": "execute_result"
    }
   ],
   "source": [
    "prices_df = pd.read_csv('../data/prices.csv')\n",
    "prices_df.drop(['ipoDate', 'delistingDate'], inplace=True, axis=1)\n",
    "# Lazily remove any broken data\n",
    "prices_df = prices_df[~prices_df['price'].isna()]\n",
    "prices_df = prices_df[~prices_df['name'].isna()]\n",
    "prices_df = prices_df[~prices_df['symbol'].isna()]\n",
    "prices_df\n"
   ],
   "metadata": {
    "collapsed": false,
    "ExecuteTime": {
     "end_time": "2024-03-21T20:38:47.819516Z",
     "start_time": "2024-03-21T20:38:47.740135Z"
    }
   },
   "id": "7d687b052d42f6c6",
   "execution_count": 9
  },
  {
   "cell_type": "markdown",
   "source": [
    "## Publish price data"
   ],
   "metadata": {
    "collapsed": false
   },
   "id": "8bf102e55af1d129"
  },
  {
   "cell_type": "code",
   "outputs": [
    {
     "name": "stderr",
     "output_type": "stream",
     "text": [
      "100%|██████████| 9886/9886 [00:00<00:00, 252599.03it/s]"
     ]
    },
    {
     "name": "stdout",
     "output_type": "stream",
     "text": [
      "9886 items produced.\n"
     ]
    },
    {
     "name": "stderr",
     "output_type": "stream",
     "text": [
      "\n"
     ]
    }
   ],
   "source": [
    "for p in tqdm(prices_df.to_dict(orient='records')):\n",
    "    try:\n",
    "        producer.produce(price_topic_name, key=p['symbol'], value=json.dumps(p))\n",
    "    except Exception as e:\n",
    "        print(f'Failed to publish {p}')\n",
    "producer.flush()\n",
    "print(f'{len(prices_df)} items produced.')"
   ],
   "metadata": {
    "collapsed": false,
    "ExecuteTime": {
     "end_time": "2024-03-21T20:47:27.605407Z",
     "start_time": "2024-03-21T20:47:27.507863Z"
    }
   },
   "id": "dc3805fd15440c16",
   "execution_count": 13
  },
  {
   "cell_type": "markdown",
   "source": [
    "## Prepare holding data (SPY)"
   ],
   "metadata": {
    "collapsed": false
   },
   "id": "8fb5baaf92f944a2"
  },
  {
   "cell_type": "code",
   "outputs": [
    {
     "data": {
      "text/plain": "                           Name Ticker Identifier    SEDOL    Weight Sector  \\\n0                MICROSOFT CORP   MSFT  594918104  2588173  7.208694      -   \n1                     APPLE INC   AAPL  037833100  2046251  5.884039      -   \n2                   NVIDIA CORP   NVDA  67066G104  2379504  5.083447      -   \n3                AMAZON.COM INC   AMZN  023135106  2000019  3.701629      -   \n4    META PLATFORMS INC CLASS A   META  30303M102  B7TL820  2.513395      -   \n..                          ...    ...        ...      ...       ...    ...   \n499       MOHAWK INDUSTRIES INC    MHK  608190104  2598699  0.014293      -   \n500    PARAMOUNT GLOBAL CLASS B   PARA  92556H206  BKTNTR9  0.012439      -   \n501                     VF CORP    VFC  918204108  2928683  0.011064      -   \n502          FOX CORP   CLASS B    FOX  35137L204  BJJMGY5  0.008238      -   \n503          NEWS CORP  CLASS B    NWS  65249B208  BBGVT51  0.007091      -   \n\n     Shares Held Local Currency  \n0     90771106.0            USD  \n1    177321492.0            USD  \n2     30173549.0            USD  \n3    111666519.0            USD  \n4     26876014.0            USD  \n..           ...            ...  \n499     627392.0            USD  \n500    5898665.0            USD  \n501    4049110.0            USD  \n502    1613107.0            USD  \n503    1412468.0            USD  \n\n[504 rows x 8 columns]",
      "text/html": "<div>\n<style scoped>\n    .dataframe tbody tr th:only-of-type {\n        vertical-align: middle;\n    }\n\n    .dataframe tbody tr th {\n        vertical-align: top;\n    }\n\n    .dataframe thead th {\n        text-align: right;\n    }\n</style>\n<table border=\"1\" class=\"dataframe\">\n  <thead>\n    <tr style=\"text-align: right;\">\n      <th></th>\n      <th>Name</th>\n      <th>Ticker</th>\n      <th>Identifier</th>\n      <th>SEDOL</th>\n      <th>Weight</th>\n      <th>Sector</th>\n      <th>Shares Held</th>\n      <th>Local Currency</th>\n    </tr>\n  </thead>\n  <tbody>\n    <tr>\n      <th>0</th>\n      <td>MICROSOFT CORP</td>\n      <td>MSFT</td>\n      <td>594918104</td>\n      <td>2588173</td>\n      <td>7.208694</td>\n      <td>-</td>\n      <td>90771106.0</td>\n      <td>USD</td>\n    </tr>\n    <tr>\n      <th>1</th>\n      <td>APPLE INC</td>\n      <td>AAPL</td>\n      <td>037833100</td>\n      <td>2046251</td>\n      <td>5.884039</td>\n      <td>-</td>\n      <td>177321492.0</td>\n      <td>USD</td>\n    </tr>\n    <tr>\n      <th>2</th>\n      <td>NVIDIA CORP</td>\n      <td>NVDA</td>\n      <td>67066G104</td>\n      <td>2379504</td>\n      <td>5.083447</td>\n      <td>-</td>\n      <td>30173549.0</td>\n      <td>USD</td>\n    </tr>\n    <tr>\n      <th>3</th>\n      <td>AMAZON.COM INC</td>\n      <td>AMZN</td>\n      <td>023135106</td>\n      <td>2000019</td>\n      <td>3.701629</td>\n      <td>-</td>\n      <td>111666519.0</td>\n      <td>USD</td>\n    </tr>\n    <tr>\n      <th>4</th>\n      <td>META PLATFORMS INC CLASS A</td>\n      <td>META</td>\n      <td>30303M102</td>\n      <td>B7TL820</td>\n      <td>2.513395</td>\n      <td>-</td>\n      <td>26876014.0</td>\n      <td>USD</td>\n    </tr>\n    <tr>\n      <th>...</th>\n      <td>...</td>\n      <td>...</td>\n      <td>...</td>\n      <td>...</td>\n      <td>...</td>\n      <td>...</td>\n      <td>...</td>\n      <td>...</td>\n    </tr>\n    <tr>\n      <th>499</th>\n      <td>MOHAWK INDUSTRIES INC</td>\n      <td>MHK</td>\n      <td>608190104</td>\n      <td>2598699</td>\n      <td>0.014293</td>\n      <td>-</td>\n      <td>627392.0</td>\n      <td>USD</td>\n    </tr>\n    <tr>\n      <th>500</th>\n      <td>PARAMOUNT GLOBAL CLASS B</td>\n      <td>PARA</td>\n      <td>92556H206</td>\n      <td>BKTNTR9</td>\n      <td>0.012439</td>\n      <td>-</td>\n      <td>5898665.0</td>\n      <td>USD</td>\n    </tr>\n    <tr>\n      <th>501</th>\n      <td>VF CORP</td>\n      <td>VFC</td>\n      <td>918204108</td>\n      <td>2928683</td>\n      <td>0.011064</td>\n      <td>-</td>\n      <td>4049110.0</td>\n      <td>USD</td>\n    </tr>\n    <tr>\n      <th>502</th>\n      <td>FOX CORP   CLASS B</td>\n      <td>FOX</td>\n      <td>35137L204</td>\n      <td>BJJMGY5</td>\n      <td>0.008238</td>\n      <td>-</td>\n      <td>1613107.0</td>\n      <td>USD</td>\n    </tr>\n    <tr>\n      <th>503</th>\n      <td>NEWS CORP  CLASS B</td>\n      <td>NWS</td>\n      <td>65249B208</td>\n      <td>BBGVT51</td>\n      <td>0.007091</td>\n      <td>-</td>\n      <td>1412468.0</td>\n      <td>USD</td>\n    </tr>\n  </tbody>\n</table>\n<p>504 rows × 8 columns</p>\n</div>"
     },
     "execution_count": 8,
     "metadata": {},
     "output_type": "execute_result"
    }
   ],
   "source": [
    "holding_df = pd.read_excel('../data/holdings-daily-us-en-spy.xlsx', skiprows=4)\n",
    "holding_df = holding_df[~holding_df['Ticker'].isna()]\n",
    "holding_df"
   ],
   "metadata": {
    "collapsed": false,
    "ExecuteTime": {
     "end_time": "2024-03-21T09:12:06.008026Z",
     "start_time": "2024-03-21T09:12:05.794603Z"
    }
   },
   "id": "34cfbd20504fc9be",
   "execution_count": 8
  },
  {
   "cell_type": "markdown",
   "source": [
    "## Publish holding data (SPY)"
   ],
   "metadata": {
    "collapsed": false
   },
   "id": "471ac86904bd7a29"
  },
  {
   "cell_type": "code",
   "outputs": [
    {
     "name": "stderr",
     "output_type": "stream",
     "text": [
      "100%|██████████| 504/504 [00:00<00:00, 144374.35it/s]\n"
     ]
    },
    {
     "name": "stdout",
     "output_type": "stream",
     "text": [
      "504 items produced.\n"
     ]
    }
   ],
   "source": [
    "for h in tqdm(holding_df.to_dict(orient='records')):\n",
    "    try:\n",
    "        producer.produce(holding_topic_name, key=h['Ticker'], value=json.dumps(h))\n",
    "    except Exception as e:\n",
    "        print(f'Failed to publish {h}')\n",
    "\n",
    "producer.flush()\n",
    "print(f'{len(holding_df)} items produced.')    "
   ],
   "metadata": {
    "collapsed": false,
    "ExecuteTime": {
     "end_time": "2024-03-21T09:12:09.593476Z",
     "start_time": "2024-03-21T09:12:08.594513Z"
    }
   },
   "id": "a65aa2e90de2c20a",
   "execution_count": 9
  },
  {
   "cell_type": "code",
   "outputs": [
    {
     "name": "stdout",
     "output_type": "stream",
     "text": [
      "Received message: A {\"symbol\": \"A\", \"name\": \"Agilent Technologies Inc\", \"exchange\": \"NYSE\", \"assetType\": \"Stock\", \"status\": \"Active\", \"price\": 147.39}\n"
     ]
    },
    {
     "data": {
      "text/plain": "<function Consumer.close>"
     },
     "execution_count": 16,
     "metadata": {},
     "output_type": "execute_result"
    }
   ],
   "source": [
    "consumer = Consumer({\n",
    "    **conf,\n",
    "    'group.id': 'test-client-1',\n",
    "    'auto.offset.reset': 'earliest'\n",
    "})\n",
    "\n",
    "consumer.subscribe([price_topic_name])\n",
    "msg = consumer.poll(1.0)\n",
    "if msg is None:\n",
    "    print(\"No messages\")\n",
    "elif msg.error():\n",
    "    raise KafkaException(msg.error())\n",
    "else:\n",
    "    print(f'Received message: {msg.key().decode(\"utf-8\")} {msg.value().decode(\"utf-8\")}')\n",
    "\n",
    "consumer.close"
   ],
   "metadata": {
    "collapsed": false,
    "ExecuteTime": {
     "end_time": "2024-03-21T08:00:51.138717Z",
     "start_time": "2024-03-21T08:00:50.885699Z"
    }
   },
   "id": "8457830380f9ce20",
   "execution_count": 16
  },
  {
   "cell_type": "code",
   "outputs": [
    {
     "name": "stdout",
     "output_type": "stream",
     "text": [
      "No messages\n"
     ]
    },
    {
     "data": {
      "text/plain": "<function Consumer.close>"
     },
     "execution_count": 19,
     "metadata": {},
     "output_type": "execute_result"
    }
   ],
   "source": [
    "consumer = Consumer({\n",
    "    **conf,\n",
    "    'group.id': 'test-client-1',\n",
    "    'auto.offset.reset': 'earliest'\n",
    "})\n",
    "\n",
    "consumer.subscribe([holding_topic_name])\n",
    "msg = consumer.poll(1.0)\n",
    "if msg is None:\n",
    "    print(\"No messages\")\n",
    "elif msg.error():\n",
    "    raise KafkaException(msg.error())\n",
    "else:\n",
    "    print(f'Received message: {msg.key().decode(\"utf-8\")} {msg.value().decode(\"utf-8\")}')\n",
    "\n",
    "consumer.close"
   ],
   "metadata": {
    "collapsed": false,
    "ExecuteTime": {
     "end_time": "2024-03-21T08:01:15.548148Z",
     "start_time": "2024-03-21T08:01:14.480936Z"
    }
   },
   "id": "9092f2e16224d5a5",
   "execution_count": 19
  },
  {
   "cell_type": "code",
   "outputs": [],
   "source": [],
   "metadata": {
    "collapsed": false
   },
   "id": "9ad916cd1b971148"
  }
 ],
 "metadata": {
  "kernelspec": {
   "display_name": "Python 3",
   "language": "python",
   "name": "python3"
  },
  "language_info": {
   "codemirror_mode": {
    "name": "ipython",
    "version": 2
   },
   "file_extension": ".py",
   "mimetype": "text/x-python",
   "name": "python",
   "nbconvert_exporter": "python",
   "pygments_lexer": "ipython2",
   "version": "2.7.6"
  }
 },
 "nbformat": 4,
 "nbformat_minor": 5
}
