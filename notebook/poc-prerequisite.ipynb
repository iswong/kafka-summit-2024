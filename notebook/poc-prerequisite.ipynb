{
 "cells": [
  {
   "cell_type": "markdown",
   "source": [
    "# Kafka Summit 2024"
   ],
   "metadata": {
    "collapsed": false
   },
   "id": "bcdca54ecd7dd96"
  },
  {
   "cell_type": "markdown",
   "source": [
    "## Install Kafka / Redpanda\n",
    "\n",
    "https://kafka.apache.org/quickstart"
   ],
   "metadata": {
    "collapsed": false
   },
   "id": "10b00326239e6509"
  },
  {
   "cell_type": "markdown",
   "source": [
    "## Install Apache Flink\n",
    "\n",
    "https://nightlies.apache.org/flink/flink-docs-release-1.18/docs/try-flink/local_installation/"
   ],
   "metadata": {
    "collapsed": false
   },
   "id": "c42545f948944835"
  },
  {
   "cell_type": "markdown",
   "source": [
    "## Install Python packages"
   ],
   "metadata": {
    "collapsed": false
   },
   "id": "638652dc12a6ee0d"
  },
  {
   "cell_type": "code",
   "outputs": [],
   "source": [
    "!pip install -r requirements.txt"
   ],
   "metadata": {
    "collapsed": false
   },
   "id": "49a0feb1c85170e2"
  },
  {
   "cell_type": "markdown",
   "source": [
    "## Let's start"
   ],
   "metadata": {
    "collapsed": false
   },
   "id": "defeff6ada0a23ea"
  },
  {
   "cell_type": "code",
   "execution_count": 3,
   "id": "initial_id",
   "metadata": {
    "collapsed": true,
    "ExecuteTime": {
     "end_time": "2024-03-27T20:56:32.094767Z",
     "start_time": "2024-03-27T20:56:32.077156Z"
    }
   },
   "outputs": [],
   "source": [
    "%load_ext autoreload\n",
    "%autoreload 2"
   ]
  },
  {
   "cell_type": "code",
   "outputs": [],
   "source": [
    "\n",
    "import json\n",
    "\n",
    "import pandas as pd\n",
    "from confluent_kafka import Producer, Consumer, KafkaException\n",
    "from confluent_kafka.admin import AdminClient, NewTopic"
   ],
   "metadata": {
    "collapsed": false,
    "ExecuteTime": {
     "end_time": "2024-03-27T20:56:33.640350Z",
     "start_time": "2024-03-27T20:56:32.769054Z"
    }
   },
   "id": "6c1f659ae635ccdb",
   "execution_count": 4
  },
  {
   "cell_type": "markdown",
   "source": [
    "## Kafka config"
   ],
   "metadata": {
    "collapsed": false
   },
   "id": "2270a313e09c2605"
  },
  {
   "cell_type": "code",
   "outputs": [
    {
     "data": {
      "text/plain": "{'flink.servers': 'localhost:8081',\n 'kafka.brokers': 'localhost:51932',\n 'kafka.topic.price.name': 'local.price',\n 'kafka.topic.holding.name': 'local.holding',\n 'kafka.topic.order.name': 'local.order'}"
     },
     "execution_count": 5,
     "metadata": {},
     "output_type": "execute_result"
    }
   ],
   "source": [
    "with open('../config.json') as fp:\n",
    "  config_obj = json.load(fp)\n",
    "config_obj"
   ],
   "metadata": {
    "collapsed": false,
    "ExecuteTime": {
     "end_time": "2024-03-27T20:56:35.735494Z",
     "start_time": "2024-03-27T20:56:35.721014Z"
    }
   },
   "id": "56cbbc525de77890",
   "execution_count": 5
  },
  {
   "cell_type": "code",
   "outputs": [],
   "source": [
    "conf = {\n",
    "  'bootstrap.servers': config_obj['kafka.brokers']\n",
    "}\n",
    "producer = Producer(conf)\n",
    "\n",
    "price_topic_name = config_obj['kafka.topic.price.name']\n",
    "holding_topic_name = config_obj['kafka.topic.holding.name']\n",
    "order_topic_name = config_obj['kafka.topic.order.name']"
   ],
   "metadata": {
    "collapsed": false,
    "ExecuteTime": {
     "end_time": "2024-03-27T20:56:38.363125Z",
     "start_time": "2024-03-27T20:56:38.288183Z"
    }
   },
   "id": "85a5fb282138946f",
   "execution_count": 6
  },
  {
   "cell_type": "markdown",
   "source": [
    "## Create topics"
   ],
   "metadata": {
    "collapsed": false
   },
   "id": "76ed4b2bb20d14d8"
  },
  {
   "cell_type": "code",
   "outputs": [
    {
     "data": {
      "text/plain": "{'local.order': <Future at 0x159112700 state=running>}"
     },
     "execution_count": 25,
     "metadata": {},
     "output_type": "execute_result"
    }
   ],
   "source": [
    "admin = AdminClient(conf)\n",
    "\n",
    "price_topic = NewTopic(price_topic_name, num_partitions=1, replication_factor=1)\n",
    "admin.create_topics([price_topic])\n",
    "\n",
    "holding_topic = NewTopic(holding_topic_name, num_partitions=3, replication_factor=1)\n",
    "admin.create_topics([holding_topic])\n",
    "\n",
    "order_topic = NewTopic(order_topic_name, num_partitions=3, replication_factor=1)\n",
    "admin.create_topics([order_topic])"
   ],
   "metadata": {
    "collapsed": false,
    "ExecuteTime": {
     "end_time": "2024-03-27T17:06:26.556558Z",
     "start_time": "2024-03-27T17:06:26.542096Z"
    }
   },
   "id": "7773c5592953c4a2",
   "execution_count": 25
  },
  {
   "cell_type": "code",
   "outputs": [
    {
     "name": "stdout",
     "output_type": "stream",
     "text": [
      "CLUSTER\r\n",
      "=======\r\n",
      "redpanda.998fd8e2-ed31-46f1-96d4-20f7bd02855b\r\n",
      "\r\n",
      "BROKERS\r\n",
      "=======\r\n",
      "ID    HOST       PORT\r\n",
      "0*    127.0.0.1  51932\r\n",
      "\r\n",
      "TOPICS\r\n",
      "======\r\n",
      "NAME                PARTITIONS  REPLICAS\r\n",
      "__consumer_offsets  3           1\r\n",
      "holding_topic       1           1\r\n",
      "local.holding       3           1\r\n",
      "local.order         3           1\r\n",
      "local.price         3           1\r\n",
      "\r\n"
     ]
    }
   ],
   "source": [
    "!rpk cluster info"
   ],
   "metadata": {
    "collapsed": false,
    "ExecuteTime": {
     "end_time": "2024-03-21T09:11:54.601748Z",
     "start_time": "2024-03-21T09:11:54.377121Z"
    }
   },
   "id": "a2c4fa5e3370ca54",
   "execution_count": 5
  },
  {
   "cell_type": "markdown",
   "source": [
    "## Prepare sample price data"
   ],
   "metadata": {
    "collapsed": false
   },
   "id": "5501eba0c5dafc4f"
  },
  {
   "cell_type": "code",
   "outputs": [
    {
     "data": {
      "text/plain": "      symbol                                               name   exchange  \\\n0          A                           Agilent Technologies Inc       NYSE   \n1         AA                                         Alcoa Corp       NYSE   \n2        AAA                    AXS First Priority CLO Bond ETF  NYSE ARCA   \n3       AAAU                    Goldman Sachs Physical Gold ETF       BATS   \n4       AACG                              ATA Creativity Global     NASDAQ   \n...      ...                                                ...        ...   \n11597    ZWS                    Zurn Elkay Water Solutions Corp       NYSE   \n11601   ZYME                                   Zymeworks BC Inc     NASDAQ   \n11603   ZYRX                        Global Earnings Capital Ltd     NASDAQ   \n11604   ZYXI                                          Zynex Inc     NASDAQ   \n11606    ZZZ  Cyber Hornet S&P 500 and Bitcoin 75 /25 Strate...     NASDAQ   \n\n      assetType  status   price  \n0         Stock  Active  147.39  \n1         Stock  Active   29.67  \n2           ETF  Active   25.14  \n3           ETF  Active   21.36  \n4         Stock  Active    1.40  \n...         ...     ...     ...  \n11597     Stock  Active   32.13  \n11601     Stock  Active   10.53  \n11603     Stock  Active  161.00  \n11604     Stock  Active   12.93  \n11606       ETF  Active   24.12  \n\n[9886 rows x 6 columns]",
      "text/html": "<div>\n<style scoped>\n    .dataframe tbody tr th:only-of-type {\n        vertical-align: middle;\n    }\n\n    .dataframe tbody tr th {\n        vertical-align: top;\n    }\n\n    .dataframe thead th {\n        text-align: right;\n    }\n</style>\n<table border=\"1\" class=\"dataframe\">\n  <thead>\n    <tr style=\"text-align: right;\">\n      <th></th>\n      <th>symbol</th>\n      <th>name</th>\n      <th>exchange</th>\n      <th>assetType</th>\n      <th>status</th>\n      <th>price</th>\n    </tr>\n  </thead>\n  <tbody>\n    <tr>\n      <th>0</th>\n      <td>A</td>\n      <td>Agilent Technologies Inc</td>\n      <td>NYSE</td>\n      <td>Stock</td>\n      <td>Active</td>\n      <td>147.39</td>\n    </tr>\n    <tr>\n      <th>1</th>\n      <td>AA</td>\n      <td>Alcoa Corp</td>\n      <td>NYSE</td>\n      <td>Stock</td>\n      <td>Active</td>\n      <td>29.67</td>\n    </tr>\n    <tr>\n      <th>2</th>\n      <td>AAA</td>\n      <td>AXS First Priority CLO Bond ETF</td>\n      <td>NYSE ARCA</td>\n      <td>ETF</td>\n      <td>Active</td>\n      <td>25.14</td>\n    </tr>\n    <tr>\n      <th>3</th>\n      <td>AAAU</td>\n      <td>Goldman Sachs Physical Gold ETF</td>\n      <td>BATS</td>\n      <td>ETF</td>\n      <td>Active</td>\n      <td>21.36</td>\n    </tr>\n    <tr>\n      <th>4</th>\n      <td>AACG</td>\n      <td>ATA Creativity Global</td>\n      <td>NASDAQ</td>\n      <td>Stock</td>\n      <td>Active</td>\n      <td>1.40</td>\n    </tr>\n    <tr>\n      <th>...</th>\n      <td>...</td>\n      <td>...</td>\n      <td>...</td>\n      <td>...</td>\n      <td>...</td>\n      <td>...</td>\n    </tr>\n    <tr>\n      <th>11597</th>\n      <td>ZWS</td>\n      <td>Zurn Elkay Water Solutions Corp</td>\n      <td>NYSE</td>\n      <td>Stock</td>\n      <td>Active</td>\n      <td>32.13</td>\n    </tr>\n    <tr>\n      <th>11601</th>\n      <td>ZYME</td>\n      <td>Zymeworks BC Inc</td>\n      <td>NASDAQ</td>\n      <td>Stock</td>\n      <td>Active</td>\n      <td>10.53</td>\n    </tr>\n    <tr>\n      <th>11603</th>\n      <td>ZYRX</td>\n      <td>Global Earnings Capital Ltd</td>\n      <td>NASDAQ</td>\n      <td>Stock</td>\n      <td>Active</td>\n      <td>161.00</td>\n    </tr>\n    <tr>\n      <th>11604</th>\n      <td>ZYXI</td>\n      <td>Zynex Inc</td>\n      <td>NASDAQ</td>\n      <td>Stock</td>\n      <td>Active</td>\n      <td>12.93</td>\n    </tr>\n    <tr>\n      <th>11606</th>\n      <td>ZZZ</td>\n      <td>Cyber Hornet S&amp;P 500 and Bitcoin 75 /25 Strate...</td>\n      <td>NASDAQ</td>\n      <td>ETF</td>\n      <td>Active</td>\n      <td>24.12</td>\n    </tr>\n  </tbody>\n</table>\n<p>9886 rows × 6 columns</p>\n</div>"
     },
     "execution_count": 15,
     "metadata": {},
     "output_type": "execute_result"
    }
   ],
   "source": [
    "prices_df = pd.read_csv('../data/prices.csv')\n",
    "prices_df.drop(['ipoDate', 'delistingDate'], inplace=True, axis=1)\n",
    "# Lazily remove any broken data\n",
    "prices_df = prices_df[~prices_df['price'].isna()]\n",
    "prices_df = prices_df[~prices_df['name'].isna()]\n",
    "prices_df = prices_df[~prices_df['symbol'].isna()]\n",
    "prices_df\n"
   ],
   "metadata": {
    "collapsed": false,
    "ExecuteTime": {
     "end_time": "2024-03-27T22:05:44.700180Z",
     "start_time": "2024-03-27T22:05:44.630093Z"
    }
   },
   "id": "7d687b052d42f6c6",
   "execution_count": 15
  },
  {
   "cell_type": "code",
   "outputs": [
    {
     "data": {
      "text/plain": "{'asOf': '2024-03-24T12:23:34.000',\n 'prices': {'A': 147.39,\n  'AA': 29.67,\n  'AAA': 25.14,\n  'AAAU': 21.36,\n  'AACG': 1.4,\n  'AACI': 11.1,\n  'AACIU': 11.12,\n  'AACIW': 0.09,\n  'AACT': 10.57,\n  'AADI': 2.13,\n  'AADR': 61.12,\n  'AAGR': 0.45,\n  'AAGRW': 0.01,\n  'AAL': 13.93,\n  'AAMC': 3.53,\n  'AAME': 2.8,\n  'AAN': 6.99,\n  'AAOI': 13.6,\n  'AAON': 85.18,\n  'AAP': 83.83,\n  'AAPB': 18.64,\n  'AAPD': 22.1,\n  'AAPL': 176.08,\n  'AAPU': 23.45,\n  'AAPX': 21.75,\n  'AAPY': 24.49,\n  'AAT': 21.13,\n  'AAU': 0.14,\n  'AAXJ': 67.21,\n  'AB': 33.64,\n  'ABAT': 1.99,\n  'ABBV': 179.66,\n  'ABCB': 46.12,\n  'ABCL': 4.6,\n  'ABCS': 26.31,\n  'ABEO': 7.57,\n  'ABEQ': 29.61,\n  'ABEV': 2.47,\n  'ABG': 209.21,\n  'ABIO': 1.74,\n  'ABL': 12.18,\n  'ABLLL': 25.25,\n  'ABLLW': 0.6,\n  'ABLV': 3.01,\n  'ABLVW': 0.04,\n  'ABM': 43.37,\n  'ABNB': 161.79,\n  'ABOS': 4.0,\n  'ABR': 12.61,\n  'ABSI': 4.81,\n  'ABT': 113.16,\n  'ABTS': 0.75,\n  'ABUS': 2.5,\n  'ABVC': 1.12,\n  'ABVX': 14.71,\n  'AC': 33.21,\n  'ACA': 82.1,\n  'ACAB': 10.73,\n  'ACABU': 11.0,\n  'ACABW': 0.06,\n  'ACAC': 11.22,\n  'ACACU': 11.1,\n  'ACACW': 0.08,\n  'ACAD': 18.7,\n  'ACAH': 10.45,\n  'ACAHU': 10.66,\n  'ACB': 3.64,\n  'ACBA': 12.23,\n  'ACBAU': 11.96,\n  'ACBAW': 0.02,\n  'ACCD': 9.63,\n  'ACCO': 5.33,\n  'ACDC': 8.22,\n  'ACEL': 11.64,\n  'ACES': 27.62,\n  'ACET': 2.03,\n  'ACGL': 91.67,\n  'ACGLN': 20.66,\n  'ACGLO': 23.68,\n  'ACHC': 78.5,\n  'ACHL': 1.19,\n  'ACHR': 4.79,\n  'ACHV': 4.56,\n  'ACI': 20.72,\n  'ACIC': 10.72,\n  'ACIO': 35.66,\n  'ACIU': 3.36,\n  'ACIW': 31.94,\n  'ACLS': 111.16,\n  'ACLX': 73.04,\n  'ACM': 93.66,\n  'ACMR': 27.55,\n  'ACN': 378.08,\n  'ACNB': 35.12,\n  'ACNT': 10.6,\n  'ACON': 0.36,\n  'ACONW': 0.04,\n  'ACOR': 13.25,\n  'ACP': 7.04,\n  'ACR': 12.18,\n  'ACRE': 7.55,\n  'ACRS': 1.15,\n  'ACSI': 50.73,\n  'ACST': 3.4,\n  'ACT': 29.61,\n  'ACTG': 5.05,\n  'ACTV': 33.57,\n  'ACU': 40.08,\n  'ACV': 23.38,\n  'ACVF': 39.76,\n  'ADAG': 2.81,\n  'ADAP': 1.41,\n  'ADBE': 521.19,\n  'ADC': 55.68,\n  'ADD': 0.24,\n  'ADFI': 8.51,\n  'ADI': 190.54,\n  'ADIL': 1.65,\n  'ADIV': 14.09,\n  'ADM': 61.03,\n  'ADMA': 6.19,\n  'ADME': 0.42,\n  'ADN': 0.18,\n  'ADNT': 32.83,\n  'ADNWW': 0.02,\n  'ADOC': 7.75,\n  'ADOCW': 0.05,\n  'ADP': 244.13,\n  'ADPT': 3.27,\n  'ADPV': 28.96,\n  'ADRT': 13.92,\n  'ADSE': 10.46,\n  'ADSEW': 2.1,\n  'ADSK': 256.19,\n  'ADT': 6.59,\n  'ADTH': 3.4,\n  'ADTHW': 0.12,\n  'ADTN': 5.41,\n  'ADTX': 3.05,\n  'ADUS': 100.54,\n  'ADV': 4.25,\n  'ADVE': 32.48,\n  'ADVM': 1.65,\n  'ADX': 19.26,\n  'ADXN': 12.04,\n  'AEAE': 11.25,\n  'AEAEU': 10.94,\n  'AEAEW': 0.05,\n  'AEE': 72.11,\n  'AEF': 5.04,\n  'AEG': 5.81,\n  'AEHL': 1.57,\n  'AEHR': 14.36,\n  'AEI': 0.76,\n  'AEIS': 94.77,\n  'AEL': 56.08,\n  'AEM': 54.37,\n  'AEMB': 38.32,\n  'AEMD': 1.64,\n  'AENT': 1.75,\n  'AENTW': 0.02,\n  'AEO': 23.66,\n  'AEON': 14.4,\n  'AEP': 83.32,\n  'AER': 85.65,\n  'AERT': 2.19,\n  'AERTW': 0.06,\n  'AES': 15.54,\n  'AESI': 21.84,\n  'AESR': 15.33,\n  'AETH': 45.13,\n  'AEVA': 5.2,\n  'AEYE': 9.49,\n  'AEZS': 2.11,\n  'AFAR': 11.05,\n  'AFARU': 10.94,\n  'AFARW': 0.01,\n  'AFB': 10.94,\n  'AFBI': 16.55,\n  'AFG': 131.6,\n  'AFGB': 24.78,\n  'AFGC': 22.07,\n  'AFGD': 23.87,\n  'AFGE': 20.61,\n  'AFIB': 0.19,\n  'AFIF': 9.1,\n  'AFJK': 10.2,\n  'AFJKU': 10.36,\n  'AFK': 13.91,\n  'AFL': 84.34,\n  'AFLG': 30.33,\n  'AFMC': 29.12,\n  'AFMD': 5.1,\n  'AFRI': 10.5,\n  'AFRIW': 1.44,\n  'AFRM': 33.92,\n  'AFSM': 28.17,\n  'AFT': 14.61,\n  'AFTY': 14.1,\n  'AFYA': 21.36,\n  'AGAE': 0.94,\n  'AGBA': 0.34,\n  'AGBAW': 0.01,\n  'AGCO': 115.89,\n  'AGD': 9.63,\n  'AGE': 14.53,\n  'AGEN': 0.56,\n  'AGFS': 1729.12,\n  'AGFY': 0.4,\n  'AGG': 97.24,\n  'AGGH': 21.35,\n  'AGGY': 43.24,\n  'AGI': 13.13,\n  'AGIH': 24.33,\n  'AGIO': 30.09,\n  'AGL': 5.46,\n  'AGM': 186.44,\n  'AGMH': 1.86,\n  'AGNC': 9.59,\n  'AGNCL': 24.06,\n  'AGNCM': 24.74,\n  'AGNCN': 25.84,\n  'AGNCO': 24.56,\n  'AGNCP': 23.64,\n  'AGNG': 29.84,\n  'AGO': 91.56,\n  'AGOX': 25.42,\n  'AGQ': 28.96,\n  'AGR': 35.7,\n  'AGRH': 25.86,\n  'AGRI': 0.17,\n  'AGRIW': 0.01,\n  'AGRO': 10.37,\n  'AGRX': 0.53,\n  'AGS': 8.63,\n  'AGTI': 10.11,\n  'AGX': 50.23,\n  'AGYS': 77.92,\n  'AGZ': 107.65,\n  'AGZD': 22.17,\n  'AHCO': 10.5,\n  'AHG': 1.25,\n  'AHH': 10.38,\n  'AHI': 1.5,\n  'AHLT': 23.76,\n  'AHOY': 23.36,\n  'AHR': 13.9,\n  'AHT': 1.33,\n  'AHYB': 45.43,\n  'AIA': 59.57,\n  'AIB': 11.55,\n  'AIBBU': 11.5,\n  'AIEQ': 35.75,\n  'AIF': 15.05,\n  'AIG': 75.49,\n  'AIH': 0.34,\n  'AIHS': 1.01,\n  'AIM': 0.41,\n  'AIMAU': 11.3,\n  'AIMAW': 0.01,\n  'AIMBU': 11.1,\n  'AIMD': 1.24,\n  'AIN': 91.96,\n  'AINC': 1.99,\n  'AIO': 19.35,\n  'AIP': 6.58,\n  'AIQ': 33.46,\n  'AIR': 63.1,\n  'AIRC': 0.0,\n  'AIRE': 1.3,\n  'AIRG': 5.25,\n  'AIRI': 4.71,\n  'AIRJ': 11.41,\n  'AIRL': 25.28,\n  'AIRR': 63.53,\n  'AIRS': 5.71,\n  'AIRT': 19.32,\n  'AIRTP': 17.89,\n  'AISP': 12.77,\n  'AISPW': 1.33,\n  'AIT': 194.69,\n  'AITR': 10.3,\n  'AITRU': 10.44,\n  'AIU': 0.75,\n  'AIV': 7.53,\n  'AIVI': 40.78,\n  'AIVL': 100.31,\n  'AIZ': 179.26,\n  'AIZN': 22.5,\n  'AJAN': 24.76,\n  'AJG': 253.86,\n  'AJX': 3.46,\n  'AJXA': 10.15,\n  'AKA': 10.49,\n  'AKAM': 107.79,\n  'AKBA': 1.83,\n  'AKR': 16.46,\n  'AKRO': 25.85,\n  'AKTS': 0.61,\n  'AKTX': 1.94,\n  'AKYA': 5.03,\n  'ALAR': 19.67,\n  'ALB': 120.54,\n  'ALBT': 0.32,\n  'ALC': 84.73,\n  'ALCC': 10.85,\n  'ALCE': 0.52,\n  'ALCO': 28.32,\n  'ALCY': 10.57,\n  'ALCYU': 10.64,\n  'ALCYW': 0.2,\n  'ALDX': 2.85,\n  'ALE': 57.85,\n  'ALEC': 6.2,\n  'ALEX': 16.18,\n  'ALG': 203.9,\n  'ALGM': 27.22,\n  'ALGN': 317.2,\n  'ALGS': 0.93,\n  'ALGT': 67.91,\n  'ALHC': 4.94,\n  'ALIM': 4.05,\n  'ALIT': 8.84,\n  'ALK': 37.82,\n  'ALKS': 27.7,\n  'ALKT': 23.77,\n  'ALL': 162.36,\n  'ALLE': 133.01,\n  'ALLG': 0.79,\n  'ALLK': 1.25,\n  'ALLO': 4.39,\n  'ALLR': 0.34,\n  'ALLT': 2.19,\n  'ALLY': 37.87,\n  'ALNT': 32.48,\n  'ALNY': 148.17,\n  'ALOT': 17.32,\n  'ALPN': 39.95,\n  'ALPP': 0.72,\n  'ALRM': 73.05,\n  'ALRN': 5.37,\n  'ALRS': 20.92,\n  'ALSA': 11.31,\n  'ALSAU': 11.53,\n  'ALSAW': 0.02,\n  'ALSN': 77.37,\n  'ALT': 8.74,\n  'ALTG': 12.05,\n  'ALTI': 6.35,\n  'ALTL': 34.67,\n  'ALTM': 4.53,\n  'ALTO': 1.91,\n  'ALTR': 80.62,\n  'ALTU': 10.12,\n  'ALTUU': 10.1,\n  'ALTUW': 0.0,\n  'ALTY': 11.38,\n  'ALUM': 29.59,\n  'ALUR': 2.21,\n  'ALV': 119.32,\n  'ALVO': 15.24,\n  'ALVOW': 4.2,\n  'ALVR': 0.75,\n  'ALX': 212.31,\n  'ALXO': 11.56,\n  'ALYAF': 1.64,\n  'ALZN': 1.06,\n  'AMAL': 22.91,\n  'AMAT': 201.34,\n  'AMAX': 8.0,\n  'AMBA': 49.64,\n  'AMBC': 14.73,\n  'AMBO': 1.67,\n  'AMBP': 3.45,\n  'AMC': 4.27,\n  'AMCR': 9.38,\n  'AMCX': 13.05,\n  'AMD': 181.42,\n  'AMDL': 22.29,\n  'AMDS': 11.78,\n  'AMDY': 20.49,\n  'AME': 181.93,\n  'AMED': 92.8,\n  'AMG': 161.94,\n  'AMGN': 271.73,\n  'AMH': 35.93,\n  'AMID': 33.32,\n  'AMIX': 3.26,\n  'AMJ': 28.03,\n  'AMJB': 27.96,\n  'AMK': 35.67,\n  'AMKR': 31.03,\n  'AMLI': 0.69,\n  'AMLP': 47.08,\n  'AMLX': 2.93,\n  'AMN': 65.39,\n  'AMNA': 567.74,\n  'AMNB': 44.76,\n  'AMOM': 37.99,\n  'AMP': 428.99,\n  'AMPD': 22.54,\n  'AMPE': 1.61,\n  'AMPG': 1.78,\n  'AMPGW': 0.15,\n  'AMPH': 44.57,\n  'AMPL': 11.23,\n  'AMPS': 4.42,\n  'AMPX': 2.7,\n  'AMPY': 6.18,\n  'AMR': 317.96,\n  'AMRC': 19.94,\n  'AMRK': 27.45,\n  'AMRN': 0.87,\n  'AMRX': 6.34,\n  'AMS': 2.56,\n  'AMSC': 13.17,\n  'AMSF': 50.5,\n  'AMSWA': 11.4,\n  'AMT': 196.63,\n  'AMTB': 21.43,\n  'AMWL': 0.86,\n  'AMX': 18.54,\n  'AMZA': 40.5,\n  'AMZD': 14.87,\n  'AMZN': 175.9,\n  'AMZP': 30.26,\n  'AMZU': 32.92,\n  'AMZY': 22.79,\n  'AMZZ': 25.26,\n  'ANAB': 23.27,\n  'ANDE': 54.93,\n  'ANEB': 2.4,\n  'ANET': 286.92,\n  'ANEW': 40.8,\n  'ANF': 131.08,\n  'ANGH': 1.0,\n  'ANGHW': 0.07,\n  'ANGI': 2.59,\n  'ANGL': 28.84,\n  'ANGO': 5.55,\n  'ANIK': 25.37,\n  'ANIP': 67.87,\n  'ANIX': 3.6,\n  'ANL': 9.1,\n  'ANNX': 0.27,\n  'ANRO': 14.43,\n  'ANSC': 10.15,\n  'ANSCU': 10.24,\n  'ANSCW': 0.18,\n  'ANSS': 342.37,\n  'ANTE': 1.2,\n  'ANTX': 3.07,\n  'ANVS': 8.92,\n  'ANY': 1.36,\n  'AOA': 72.53,\n  'AOD': 8.23,\n  'AOGO': 10.78,\n  'AOGOW': 0.02,\n  'AOHY': 10.93,\n  'AOK': 36.47,\n  'AOM': 42.35,\n  'AON': 322.77,\n  'AONC': 5.69,\n  'AONCW': 0.34,\n  'AOR': 55.03,\n  'AORT': 20.39,\n  'AOS': 86.78,\n  'AOSL': 20.73,\n  'AOTG': 37.89,\n  'AOUT': 8.57,\n  'APA': 33.14,\n  'APAC': 6.0,\n  'APAM': 43.11,\n  'APCA': 11.27,\n  'APCB': 29.24,\n  'APCX': 1.51,\n  'APCXW': 0.5,\n  'APD': 241.82,\n  'APDN': 0.45,\n  'APEI': 12.76,\n  'APG': 38.07,\n  'APGE': 66.22,\n  'APH': 110.97,\n  'API': 2.52,\n  'APIE': 28.01,\n  'APLD': 4.28,\n  'APLE': 16.51,\n  'APLM': 0.6,\n  'APLMW': 0.02,\n  'APLS': 56.92,\n  'APLT': 6.26,\n  'APLY': 17.23,\n  'APM': 0.83,\n  'APMU': 24.92,\n  'APO': 110.74,\n  'APOG': 58.11,\n  'APOS': 26.73,\n  'APP': 67.64,\n  'APPF': 223.41,\n  'APPN': 36.58,\n  'APPS': 2.82,\n  'APRD': 25.06,\n  'APRE': 6.74,\n  'APRH': 24.98,\n  'APRJ': 24.89,\n  'APRQ': 24.85,\n  'APRT': 34.78,\n  'APRW': 30.16,\n  'APRZ': 31.79,\n  'APT': 5.9,\n  'APTO': 1.5,\n  'APTV': 77.92,\n  'APUE': 31.67,\n  'APVO': 5.03,\n  'APWC': 1.32,\n  'APXI': 11.39,\n  'APXIU': 11.19,\n  'APXIW': 0.04,\n  'APYX': 1.8,\n  'AQB': 2.15,\n  'AQMS': 0.47,\n  'AQN': 5.93,\n  'AQNB': 24.95,\n  'AQNU': 20.29,\n  'AQST': 5.34,\n  'AQU': 10.85,\n  'AQUNU': 10.89,\n  'AQWA': 17.02,\n  'ARB': 27.07,\n  'ARBEW': 0.13,\n  'ARBK': 1.5,\n  'ARBKL': 8.42,\n  'ARC': 2.56,\n  'ARCB': 126.61,\n  'ARCC': 19.95,\n  'ARCH': 164.17,\n  'ARCT': 33.76,\n  'ARDC': 14.29,\n  'ARDX': 8.02,\n  'ARE': 123.51,\n  'AREB': 0.27,\n  'AREBW': 0.01,\n  'AREC': 1.69,\n  'AREN': 1.18,\n  'ARES': 132.17,\n  'ARGD': 23.06,\n  'ARGO': 0.25,\n  'ARGT': 51.98,\n  'ARGX': 359.37,\n  'ARHS': 14.85,\n  'ARI': 11.1,\n  'ARIS': 13.66,\n  'ARKA': 62.92,\n  'ARKB': 64.41,\n  'ARKC': 40.64,\n  'ARKD': 43.27,\n  'ARKF': 29.05,\n  'ARKG': 12.27,\n  'ARKK': 48.51,\n  'ARKO': 5.75,\n  'ARKQ': 53.23,\n  'ARKR': 14.17,\n  'ARKW': 79.19,\n  'ARKX': 14.58,\n  'ARKY': 40.8,\n  'ARKZ': 40.58,\n  'ARL': 16.94,\n  'ARLO': 12.35,\n  'ARLP': 19.89,\n  'ARM': 124.59,\n  'ARMK': 31.5,\n  'ARMN': 3.22,\n  'ARMP': 3.78,\n  'AROC': 18.96,\n  'AROW': 23.66,\n  'ARP': 26.58,\n  'ARQ': 6.14,\n  'ARQQ': 0.72,\n  'ARQQW': 0.2,\n  'ARQT': 9.86,\n  'ARR': 18.89,\n  'ARRW': 10.85,\n  'ARRWU': 12.1,\n  'ARRWW': 0.11,\n  'ARRY': 12.34,\n  'ARTE': 13.7,\n  'ARTL': 1.5,\n  'ARTLW': 0.03,\n  'ARTNA': 35.44,\n  'ARTW': 2.13,\n  'ARVN': 42.56,\n  'ARVR': 35.48,\n  'ARW': 118.17,\n  'ARWR': 27.77,\n  'ARYD': 11.27,\n  'ASA': 14.7,\n  'ASAI': 14.72,\n  'ASAN': 15.85,\n  'ASAP': 0.09,\n  'ASB': 20.29,\n  'ASC': 16.4,\n  'ASCA': 11.15,\n  'ASCAU': 12.8,\n  'ASCAW': 0.05,\n  'ASCB': 11.13,\n  'ASCBU': 10.84,\n  'ASCBW': 0.01,\n  'ASEA': 15.16,\n  'ASET': 30.53,\n  'ASG': 5.39,\n  'ASGN': 102.78,\n  'ASH': 95.83,\n  'ASHR': 24.64,\n  'ASHS': 27.33,\n  'ASIA': 24.77,\n  'ASIX': 25.67,\n  'ASLE': 7.38,\n  'ASLN': 0.71,\n  'ASM': 0.56,\n  'ASMB': 11.83,\n  'ASML': 951.91,\n  'ASND': 145.37,\n  'ASNS': 1.0,\n  'ASO': 71.07,\n  'ASPI': 4.46,\n  'ASPN': 15.35,\n  'ASPS': 2.58,\n  'ASPY': 1085.4,\n  'ASR': 300.85,\n  'ASRT': 1.01,\n  'ASRV': 2.39,\n  'ASTC': 8.75,\n  'ASTE': 40.62,\n  'ASTH': 39.97,\n  'ASTI': 0.39,\n  'ASTL': 7.73,\n  'ASTLW': 1.19,\n  'ASTR': 0.54,\n  'ASTS': 2.86,\n  'ASTSW': 0.69,\n  'ASUR': 8.27,\n  'ASXC': 0.28,\n  'ASYS': 4.73,\n  'ATAI': 1.67,\n  'ATAT': 19.31,\n  'ATCH': 1.46,\n  'ATCOL': 24.55,\n  'ATEC': 14.15,\n  'ATEK': 11.24,\n  'ATEN': 13.27,\n  'ATER': 0.33,\n  'ATEX': 34.33,\n  'ATFV': 19.79,\n  'ATGE': 49.94,\n  'ATGL': 3.74,\n  'ATHA': 2.24,\n  'ATHE': 1.67,\n  'ATHM': 25.97,\n  'ATHS': 25.38,\n  'ATI': 48.14,\n  'ATIF': 1.03,\n  'ATIP': 6.14,\n  'ATKR': 180.29,\n  'ATLC': 29.94,\n  'ATLCL': 23.76,\n  'ATLCP': 24.33,\n  'ATLCZ': 25.4,\n  'ATLO': 20.9,\n  'ATMC': 10.93,\n  'ATMP': 23.49,\n  'ATMU': 26.0,\n  'ATMV': 10.9,\n  'ATMVU': 10.94,\n  'ATNF': 3.22,\n  'ATNFW': 0.01,\n  'ATNI': 30.73,\n  'ATNM': 8.21,\n  'ATO': 115.78,\n  'ATOM': 5.91,\n  'ATOS': 1.55,\n  'ATPC': 0.36,\n  'ATR': 139.51,\n  'ATRA': 0.68,\n  'ATRC': 31.51,\n  'ATRI': 428.6,\n  'ATRO': 17.65,\n  'ATS': 35.96,\n  'ATSG': 11.9,\n  'ATUS': 2.61,\n  'AUB': 33.19,\n  'AUBN': 18.82,\n  'AUDC': 13.17,\n  'AUGT': 27.64,\n  'AUGW': 27.0,\n  'AUGX': 3.96,\n  'AUGZ': 36.29,\n  'AUID': 9.07,\n  'AULT': 0.37,\n  'AUMI': 27.01,\n  'AUMN': 0.26,\n  'AUPH': 5.18,\n  'AUR': 2.31,\n  'AURA': 7.48,\n  'AUROW': 0.18,\n  'AUSF': 39.85,\n  'AUST': 1.51,\n  'AUTL': 6.2,\n  'AUUD': 2.51,\n  'AUUDW': 0.05,\n  'AUVI': 1.59,\n  'AVA': 33.61,\n  'AVAH': 2.47,\n  'AVAV': 145.68,\n  'AVB': 182.16,\n  'AVBP': 18.13,\n  'AVD': 12.24,\n  'AVDE': 62.84,\n  'AVDL': 15.8,\n  'AVDS': 52.34,\n  'AVDV': 64.46,\n  'AVDX': 12.91,\n  'AVEM': 57.3,\n  'AVES': 47.09,\n  'AVGE': 68.17,\n  'AVGO': 1238.01,\n  'AVGR': 3.1,\n  'AVGV': 58.81,\n  'AVHI': 10.96,\n  'AVHIU': 12.03,\n  'AVHIW': 0.03,\n  'AVIE': 62.17,\n  'AVIG': 40.94,\n  'AVIR': 3.94,\n  'AVIV': 53.22,\n  'AVK': 11.76,\n  'AVLC': 60.72,\n  'AVLV': 62.78,\n  'AVMA': 55.83,\n  'AVMC': 60.25,\n  'AVMU': 46.61,\n  'AVNM': 55.49,\n  'AVNS': 19.44,\n  'AVNT': 40.23,\n  'AVNV': 55.98,\n  'AVNW': 35.78,\n  'AVO': 11.87,\n  'AVPT': 7.75,\n  'AVPTW': 0.9,\n  'AVRE': 41.54,\n  'AVRO': 1.26,\n  'AVSC': 50.11,\n  'AVSD': 56.17,\n  'AVSE': 48.56,\n  'AVSF': 46.15,\n  'AVSU': 60.06,\n  'AVT': 46.45,\n  'AVTE': 25.72,\n  'AVTR': 25.46,\n  'AVTX': 4.35,\n  'AVUS': 87.68,\n  'AVUV': 89.57,\n  'AVXL': 4.84,\n  'AVY': 215.21,\n  'AWAY': 19.75,\n  'AWF': 10.44,\n  'AWH': 3.55,\n  'AWI': 123.76,\n  'AWIN': 0.08,\n  'AWINW': 0.01,\n  'AWK': 118.0,\n  'AWP': 3.78,\n  'AWR': 70.59,\n  'AWRE': 1.78,\n  'AWX': 2.25,\n  'AXDX': 0.97,\n  'AXGN': 7.68,\n  'AXL': 6.9,\n  'AXNX': 68.7,\n  'AXON': 312.13,\n  'AXP': 221.69,\n  'AXR': 23.83,\n  'AXS': 63.36,\n  'AXSM': 76.87,\n  'AXTA': 33.16,\n  'AXTI': 4.83,\n  'AYI': 263.19,\n  'AYRO': 1.61,\n  'AYTU': 2.86,\n  'AZEK': 48.43,\n  'AZN': 65.86,\n  'AZO': 3153.81,\n  'AZTA': 58.7,\n  'AZTD': 21.53,\n  'AZTR': 0.23,\n  'AZUL': 8.19,\n  'AZZ': 76.8,\n  'B': 36.4,\n  'BAB': 26.31,\n  'BABA': 73.42,\n  'BABX': 13.9,\n  'BAC': 36.03,\n  'BACA': 130.0,\n  'BACK': 1.31,\n  'BAD': 8.48,\n  'BAER': 5.6,\n  'BAERW': 0.22,\n  'BAFN': 12.61,\n  'BAH': 146.17,\n  'BAK': 8.99,\n  'BALI': 28.47,\n  'BALL': 64.62,\n  'BALT': 29.18,\n  'BALY': 12.9,\n  'BAM': 40.55,\n  'BAMA': 28.37,\n  'BAMB': 25.48,\n  'BAMD': 27.85,\n  'BAMG': 29.68,\n  'BAMO': 28.11,\n  'BAMU': 25.25,\n  'BAMV': 29.51,\n  'BAMY': 26.75,\n  'BANC': 14.23,\n  'BAND': 18.83,\n  'BANF': 84.3,\n  'BANFP': 26.25,\n  'BANL': 1.06,\n  'BANR': 44.69,\n  'BANX': 19.15,\n  'BAOS': 3.35,\n  'BAP': 169.85,\n  'BAPR': 39.93,\n  'BAR': 21.32,\n  'BARK': 1.33,\n  'BASE': 26.95,\n  'BATL': 5.66,\n  'BATRA': 40.83,\n  'BATRK': 38.16,\n  'BATT': 9.3,\n  'BAUG': 38.43,\n  'BAX': 41.95,\n  'BAYA': 10.07,\n  'BAYAU': 10.3,\n  'BBAG': 45.54,\n  'BBAI': 2.2,\n  'BBAX': 47.76,\n  'BBBI': 49.91,\n  'BBBL': 49.14,\n  'BBBS': 50.06,\n  'BBC': 28.63,\n  'BBCA': 65.77,\n  'BBCB': 45.18,\n  'BBCP': 7.64,\n  'BBD': 2.82,\n  'BBDC': 9.11,\n  'BBDO': 2.55,\n  'BBEM': 49.88,\n  'BBEU': 58.67,\n  'BBGI': 0.78,\n  'BBH': 164.49,\n  'BBHY': 46.06,\n  'BBIB': 96.6,\n  'BBIN': 59.73,\n  'BBIO': 28.43,\n  'BBIP': 98.47,\n  'BBJP': 58.19,\n  'BBLB': 88.64,\n  'BBLG': 2.22,\n  'BBLGW': 21.0,\n  'BBLU': 11.5,\n  'BBMC': 89.11,\n  'BBN': 16.28,\n  'BBP': 56.13,\n  'BBRE': 86.39,\n  'BBSA': 47.45,\n  'BBSB': 98.04,\n  'BBSC': 60.25,\n  'BBSI': 120.71,\n  'BBU': 21.58,\n  'BBUC': 23.51,\n  'BBUS': 48.13,\n  'BBVA': 11.39,\n  'BBW': 28.95,\n  'BBWI': 47.48,\n  'BBY': 78.23,\n  'BCAB': 2.46,\n  'BCAL': 14.25,\n  'BCBP': 10.45,\n  'BCC': 135.89,\n  'BCD': 31.42,\n  'BCDA': 0.38,\n  'BCDAW': 0.02,\n  'BCDF': 24.54,\n  'BCE': 34.17,\n  'BCH': 22.76,\n  'BCHP': 30.95,\n  'BCI': 19.77,\n  'BCIM': 21.59,\n  'BCLI': 0.36,\n  'BCM': 0.24,\n  'BCML': 19.44,\n  'BCO': 85.47,\n  'BCOV': 1.89,\n  'BCOW': 6.77,\n  'BCPC': 156.79,\n  'BCRX': 5.36,\n  'BCS': 9.0,\n  'BCSA': 11.05,\n  'BCSAU': 10.97,\n  'BCSAW': 0.04,\n  'BCSF': 15.75,\n  'BCTX': 2.71,\n  'BCTXW': 1.45,\n  'BCUS': 28.44,\n  'BCV': 15.23,\n  'BCX': 8.91,\n  'BCYC': 24.55,\n  'BDC': 88.29,\n  'BDEC': 40.27,\n  'BDGS': 27.46,\n  'BDJ': 5.85,\n  'BDL': 24.48,\n  'BDN': 4.4,\n  'BDRX': 1.03,\n  'BDRY': 15.49,\n  'BDSX': 1.38,\n  'BDTX': 4.63,\n  'BDVG': 11.02,\n  'BDX': 240.24,\n  'BEAM': 34.84,\n  'BEAT': 2.31,\n  'BEATW': 0.2,\n  'BECN': 92.7,\n  'BECO': 20.98,\n  'BEDU': 2.12,\n  'BEDZ': 29.24,\n  'BEEM': 7.02,\n  'BEEMW': 0.82,\n  'BEEP': 3.35,\n  'BEEZ': 30.32,\n  'BEKE': 14.17,\n  'BELFA': 67.75,\n  'BELFB': 55.83,\n  'BEN': 27.06,\n  'BENF': 0.06,\n  'BENFW': 0.01,\n  'BEP': 21.98,\n  'BEPC': 23.36,\n  'BEPH': 17.7,\n  'BEPI': 17.83,\n  'BERY': 58.85,\n  'BEST': 2.23,\n  'BETE': 79.81,\n  'BETH': 82.4,\n  'BETR': 0.47,\n  'BETRW': 0.14,\n  'BETZ': 17.66,\n  'BFAC': 11.0,\n  'BFAM': 115.24,\n  'BFC': 81.32,\n  'BFEB': 38.95,\n  'BFH': 39.13,\n  'BFI': 0.6,\n  'BFIIW': 0.04,\n  'BFIN': 10.11,\n  'BFIX': 23.16,\n  'BFK': 10.37,\n  'BFLY': 1.08,\n  'BFOR': 66.04,\n  'BFRI': 1.18,\n  'BFRIW': 0.05,\n  'BFS': 37.1,\n  'BFST': 21.43,\n  'BGB': 11.89,\n  'BGC': 7.98,\n  'BGH': 14.2,\n  'BGI': 2.8,\n  'BGIG': 27.11,\n  'BGLC': 0.73,\n  'BGLD': 19.42,\n  'BGNE': 168.1,\n  'BGR': 12.96,\n  'BGRN': 46.6,\n  'BGS': 10.65,\n  'BGSF': 10.31,\n  'BGT': 13.24,\n  'BGX': 12.39,\n  'BGXX': 0.28,\n  'BGY': 5.4,\n  'BH': 199.0,\n  'BHAC': 10.48,\n  'BHACU': 10.47,\n  'BHACW': 0.07,\n  'BHAT': 1.04,\n  'BHB': 24.65,\n  'BHC': 9.54,\n  'BHE': 29.22,\n  'BHF': 47.44,\n  'BHFAM': 16.74,\n  'BHFAN': 20.0,\n  ...}}"
     },
     "execution_count": 16,
     "metadata": {},
     "output_type": "execute_result"
    }
   ],
   "source": [
    "throttled_price = {\n",
    "  'asOf': '2024-03-24T12:23:34.000',\n",
    "  'prices': {i['symbol']: i['price'] for i in prices_df.to_dict(orient='records')}\n",
    "}\n",
    "throttled_price"
   ],
   "metadata": {
    "collapsed": false,
    "ExecuteTime": {
     "end_time": "2024-03-27T22:05:48.232364Z",
     "start_time": "2024-03-27T22:05:48.170017Z"
    }
   },
   "id": "aaa6f5622b8dd054",
   "execution_count": 16
  },
  {
   "cell_type": "markdown",
   "source": [
    "## Publish price data"
   ],
   "metadata": {
    "collapsed": false
   },
   "id": "8bf102e55af1d129"
  },
  {
   "cell_type": "code",
   "outputs": [
    {
     "name": "stdout",
     "output_type": "stream",
     "text": [
      "9886 items produced.\n"
     ]
    }
   ],
   "source": [
    "try:\n",
    "  producer.produce(price_topic_name, key='2024-03-27', value=json.dumps(throttled_price))\n",
    "except Exception as e:\n",
    "  print(f'Failed to publish prices')\n",
    "producer.flush()\n",
    "print(f'{len(prices_df)} items produced.')"
   ],
   "metadata": {
    "collapsed": false,
    "ExecuteTime": {
     "end_time": "2024-04-01T16:17:09.431038Z",
     "start_time": "2024-04-01T16:17:09.362451Z"
    }
   },
   "id": "dc3805fd15440c16",
   "execution_count": 34
  },
  {
   "cell_type": "markdown",
   "source": [
    "## Prepare holding data (SPY)"
   ],
   "metadata": {
    "collapsed": false
   },
   "id": "8fb5baaf92f944a2"
  },
  {
   "cell_type": "code",
   "outputs": [
    {
     "data": {
      "text/plain": "                           name symbol       sodQty currency  orderQty\n0                MICROSOFT CORP   MSFT   90771106.0      USD         0\n1                     APPLE INC   AAPL  177321492.0      USD         0\n2                   NVIDIA CORP   NVDA   30173549.0      USD         0\n3                AMAZON.COM INC   AMZN  111666519.0      USD         0\n4    META PLATFORMS INC CLASS A   META   26876014.0      USD         0\n..                          ...    ...          ...      ...       ...\n499       MOHAWK INDUSTRIES INC    MHK     627392.0      USD         0\n500    PARAMOUNT GLOBAL CLASS B   PARA    5898665.0      USD         0\n501                     VF CORP    VFC    4049110.0      USD         0\n502          FOX CORP   CLASS B    FOX    1613107.0      USD         0\n503          NEWS CORP  CLASS B    NWS    1412468.0      USD         0\n\n[504 rows x 5 columns]",
      "text/html": "<div>\n<style scoped>\n    .dataframe tbody tr th:only-of-type {\n        vertical-align: middle;\n    }\n\n    .dataframe tbody tr th {\n        vertical-align: top;\n    }\n\n    .dataframe thead th {\n        text-align: right;\n    }\n</style>\n<table border=\"1\" class=\"dataframe\">\n  <thead>\n    <tr style=\"text-align: right;\">\n      <th></th>\n      <th>name</th>\n      <th>symbol</th>\n      <th>sodQty</th>\n      <th>currency</th>\n      <th>orderQty</th>\n    </tr>\n  </thead>\n  <tbody>\n    <tr>\n      <th>0</th>\n      <td>MICROSOFT CORP</td>\n      <td>MSFT</td>\n      <td>90771106.0</td>\n      <td>USD</td>\n      <td>0</td>\n    </tr>\n    <tr>\n      <th>1</th>\n      <td>APPLE INC</td>\n      <td>AAPL</td>\n      <td>177321492.0</td>\n      <td>USD</td>\n      <td>0</td>\n    </tr>\n    <tr>\n      <th>2</th>\n      <td>NVIDIA CORP</td>\n      <td>NVDA</td>\n      <td>30173549.0</td>\n      <td>USD</td>\n      <td>0</td>\n    </tr>\n    <tr>\n      <th>3</th>\n      <td>AMAZON.COM INC</td>\n      <td>AMZN</td>\n      <td>111666519.0</td>\n      <td>USD</td>\n      <td>0</td>\n    </tr>\n    <tr>\n      <th>4</th>\n      <td>META PLATFORMS INC CLASS A</td>\n      <td>META</td>\n      <td>26876014.0</td>\n      <td>USD</td>\n      <td>0</td>\n    </tr>\n    <tr>\n      <th>...</th>\n      <td>...</td>\n      <td>...</td>\n      <td>...</td>\n      <td>...</td>\n      <td>...</td>\n    </tr>\n    <tr>\n      <th>499</th>\n      <td>MOHAWK INDUSTRIES INC</td>\n      <td>MHK</td>\n      <td>627392.0</td>\n      <td>USD</td>\n      <td>0</td>\n    </tr>\n    <tr>\n      <th>500</th>\n      <td>PARAMOUNT GLOBAL CLASS B</td>\n      <td>PARA</td>\n      <td>5898665.0</td>\n      <td>USD</td>\n      <td>0</td>\n    </tr>\n    <tr>\n      <th>501</th>\n      <td>VF CORP</td>\n      <td>VFC</td>\n      <td>4049110.0</td>\n      <td>USD</td>\n      <td>0</td>\n    </tr>\n    <tr>\n      <th>502</th>\n      <td>FOX CORP   CLASS B</td>\n      <td>FOX</td>\n      <td>1613107.0</td>\n      <td>USD</td>\n      <td>0</td>\n    </tr>\n    <tr>\n      <th>503</th>\n      <td>NEWS CORP  CLASS B</td>\n      <td>NWS</td>\n      <td>1412468.0</td>\n      <td>USD</td>\n      <td>0</td>\n    </tr>\n  </tbody>\n</table>\n<p>504 rows × 5 columns</p>\n</div>"
     },
     "execution_count": 7,
     "metadata": {},
     "output_type": "execute_result"
    }
   ],
   "source": [
    "holding_df = pd.read_excel('../data/holdings-daily-us-en-spy.xlsx', skiprows=4)\n",
    "holding_df = holding_df[~holding_df['Ticker'].isna()]\n",
    "holding_df.rename(\n",
    "    columns={'Shares Held': 'sodQty', 'Ticker': 'symbol', 'Local Currency': 'currency',\n",
    "             'Name': 'name'}, inplace=True)\n",
    "holding_df.drop(['Identifier', 'SEDOL', 'Weight', 'Sector'], axis=1, inplace=True)\n",
    "holding_df['orderQty'] = 0\n",
    "holding_df"
   ],
   "metadata": {
    "collapsed": false,
    "ExecuteTime": {
     "end_time": "2024-03-27T20:57:00.959985Z",
     "start_time": "2024-03-27T20:57:00.528122Z"
    }
   },
   "id": "34cfbd20504fc9be",
   "execution_count": 7
  },
  {
   "cell_type": "code",
   "outputs": [
    {
     "data": {
      "text/plain": "{'accountCode': 'BBB',\n 'parentAccount': 'SPY',\n 'holdings': [{'name': 'MICROSOFT CORP',\n   'symbol': 'MSFT',\n   'sodQty': 90771106.0,\n   'currency': 'USD',\n   'orderQty': 0},\n  {'name': 'APPLE INC',\n   'symbol': 'AAPL',\n   'sodQty': 177321492.0,\n   'currency': 'USD',\n   'orderQty': 0},\n  {'name': 'NVIDIA CORP',\n   'symbol': 'NVDA',\n   'sodQty': 30173549.0,\n   'currency': 'USD',\n   'orderQty': 0},\n  {'name': 'AMAZON.COM INC',\n   'symbol': 'AMZN',\n   'sodQty': 111666519.0,\n   'currency': 'USD',\n   'orderQty': 0},\n  {'name': 'META PLATFORMS INC CLASS A',\n   'symbol': 'META',\n   'sodQty': 26876014.0,\n   'currency': 'USD',\n   'orderQty': 0},\n  {'name': 'ALPHABET INC CL A',\n   'symbol': 'GOOGL',\n   'sodQty': 71989916.0,\n   'currency': 'USD',\n   'orderQty': 0},\n  {'name': 'BERKSHIRE HATHAWAY INC CL B',\n   'symbol': 'BRK.B',\n   'sodQty': 22210790.0,\n   'currency': 'USD',\n   'orderQty': 0},\n  {'name': 'ALPHABET INC CL C',\n   'symbol': 'GOOG',\n   'sodQty': 60271657.0,\n   'currency': 'USD',\n   'orderQty': 0},\n  {'name': 'ELI LILLY + CO',\n   'symbol': 'LLY',\n   'sodQty': 9734121.0,\n   'currency': 'USD',\n   'orderQty': 0},\n  {'name': 'JPMORGAN CHASE + CO',\n   'symbol': 'JPM',\n   'sodQty': 35291797.0,\n   'currency': 'USD',\n   'orderQty': 0},\n  {'name': 'BROADCOM INC',\n   'symbol': 'AVGO',\n   'sodQty': 5375458.0,\n   'currency': 'USD',\n   'orderQty': 0},\n  {'name': 'TESLA INC',\n   'symbol': 'TSLA',\n   'sodQty': 33848188.0,\n   'currency': 'USD',\n   'orderQty': 0},\n  {'name': 'UNITEDHEALTH GROUP INC',\n   'symbol': 'UNH',\n   'sodQty': 11290959.0,\n   'currency': 'USD',\n   'orderQty': 0},\n  {'name': 'VISA INC CLASS A SHARES',\n   'symbol': 'V',\n   'sodQty': 19321014.0,\n   'currency': 'USD',\n   'orderQty': 0},\n  {'name': 'EXXON MOBIL CORP',\n   'symbol': 'XOM',\n   'sodQty': 48509832.0,\n   'currency': 'USD',\n   'orderQty': 0},\n  {'name': 'MASTERCARD INC   A',\n   'symbol': 'MA',\n   'sodQty': 10078902.0,\n   'currency': 'USD',\n   'orderQty': 0},\n  {'name': 'PROCTER + GAMBLE CO/THE',\n   'symbol': 'PG',\n   'sodQty': 28772193.0,\n   'currency': 'USD',\n   'orderQty': 0},\n  {'name': 'HOME DEPOT INC',\n   'symbol': 'HD',\n   'sodQty': 12158450.0,\n   'currency': 'USD',\n   'orderQty': 0},\n  {'name': 'JOHNSON + JOHNSON',\n   'symbol': 'JNJ',\n   'sodQty': 29389618.0,\n   'currency': 'USD',\n   'orderQty': 0},\n  {'name': 'COSTCO WHOLESALE CORP',\n   'symbol': 'COST',\n   'sodQty': 5420187.0,\n   'currency': 'USD',\n   'orderQty': 0},\n  {'name': 'ABBVIE INC',\n   'symbol': 'ABBV',\n   'sodQty': 21553471.0,\n   'currency': 'USD',\n   'orderQty': 0},\n  {'name': 'MERCK + CO. INC.',\n   'symbol': 'MRK',\n   'sodQty': 30936688.0,\n   'currency': 'USD',\n   'orderQty': 0},\n  {'name': 'ADVANCED MICRO DEVICES',\n   'symbol': 'AMD',\n   'sodQty': 19725023.0,\n   'currency': 'USD',\n   'orderQty': 0},\n  {'name': 'SALESFORCE INC',\n   'symbol': 'CRM',\n   'sodQty': 11825526.0,\n   'currency': 'USD',\n   'orderQty': 0},\n  {'name': 'CHEVRON CORP',\n   'symbol': 'CVX',\n   'sodQty': 21188628.0,\n   'currency': 'USD',\n   'orderQty': 0},\n  {'name': 'NETFLIX INC',\n   'symbol': 'NFLX',\n   'sodQty': 5286720.0,\n   'currency': 'USD',\n   'orderQty': 0},\n  {'name': 'WALMART INC',\n   'symbol': 'WMT',\n   'sodQty': 52248603.0,\n   'currency': 'USD',\n   'orderQty': 0},\n  {'name': 'BANK OF AMERICA CORP',\n   'symbol': 'BAC',\n   'sodQty': 84056025.0,\n   'currency': 'USD',\n   'orderQty': 0},\n  {'name': 'ACCENTURE PLC CL A',\n   'symbol': 'ACN',\n   'sodQty': 7661685.0,\n   'currency': 'USD',\n   'orderQty': 0},\n  {'name': 'PEPSICO INC',\n   'symbol': 'PEP',\n   'sodQty': 16785549.0,\n   'currency': 'USD',\n   'orderQty': 0},\n  {'name': 'ADOBE INC',\n   'symbol': 'ADBE',\n   'sodQty': 5521313.0,\n   'currency': 'USD',\n   'orderQty': 0},\n  {'name': 'COCA COLA CO/THE',\n   'symbol': 'KO',\n   'sodQty': 47504934.0,\n   'currency': 'USD',\n   'orderQty': 0},\n  {'name': 'LINDE PLC',\n   'symbol': 'LIN',\n   'sodQty': 5920001.0,\n   'currency': 'USD',\n   'orderQty': 0},\n  {'name': 'THERMO FISHER SCIENTIFIC INC',\n   'symbol': 'TMO',\n   'sodQty': 4716069.0,\n   'currency': 'USD',\n   'orderQty': 0},\n  {'name': 'WALT DISNEY CO/THE',\n   'symbol': 'DIS',\n   'sodQty': 22344105.0,\n   'currency': 'USD',\n   'orderQty': 0},\n  {'name': 'ORACLE CORP',\n   'symbol': 'ORCL',\n   'sodQty': 19477318.0,\n   'currency': 'USD',\n   'orderQty': 0},\n  {'name': 'WELLS FARGO + CO',\n   'symbol': 'WFC',\n   'sodQty': 43964348.0,\n   'currency': 'USD',\n   'orderQty': 0},\n  {'name': 'MCDONALD S CORP',\n   'symbol': 'MCD',\n   'sodQty': 8855828.0,\n   'currency': 'USD',\n   'orderQty': 0},\n  {'name': 'CISCO SYSTEMS INC',\n   'symbol': 'CSCO',\n   'sodQty': 49639618.0,\n   'currency': 'USD',\n   'orderQty': 0},\n  {'name': 'ABBOTT LABORATORIES',\n   'symbol': 'ABT',\n   'sodQty': 21189191.0,\n   'currency': 'USD',\n   'orderQty': 0},\n  {'name': 'GENERAL ELECTRIC CO',\n   'symbol': 'GE',\n   'sodQty': 13287592.0,\n   'currency': 'USD',\n   'orderQty': 0},\n  {'name': 'QUALCOMM INC',\n   'symbol': 'QCOM',\n   'sodQty': 13590307.0,\n   'currency': 'USD',\n   'orderQty': 0},\n  {'name': 'CATERPILLAR INC',\n   'symbol': 'CAT',\n   'sodQty': 6227048.0,\n   'currency': 'USD',\n   'orderQty': 0},\n  {'name': 'INTEL CORP',\n   'symbol': 'INTC',\n   'sodQty': 51649859.0,\n   'currency': 'USD',\n   'orderQty': 0},\n  {'name': 'INTUIT INC',\n   'symbol': 'INTU',\n   'sodQty': 3421902.0,\n   'currency': 'USD',\n   'orderQty': 0},\n  {'name': 'INTL BUSINESS MACHINES CORP',\n   'symbol': 'IBM',\n   'sodQty': 11177729.0,\n   'currency': 'USD',\n   'orderQty': 0},\n  {'name': 'COMCAST CORP CLASS A',\n   'symbol': 'CMCSA',\n   'sodQty': 48405057.0,\n   'currency': 'USD',\n   'orderQty': 0},\n  {'name': 'VERIZON COMMUNICATIONS INC',\n   'symbol': 'VZ',\n   'sodQty': 51326199.0,\n   'currency': 'USD',\n   'orderQty': 0},\n  {'name': 'APPLIED MATERIALS INC',\n   'symbol': 'AMAT',\n   'sodQty': 10164658.0,\n   'currency': 'USD',\n   'orderQty': 0},\n  {'name': 'DANAHER CORP',\n   'symbol': 'DHR',\n   'sodQty': 8029972.0,\n   'currency': 'USD',\n   'orderQty': 0},\n  {'name': 'UBER TECHNOLOGIES INC',\n   'symbol': 'UBER',\n   'sodQty': 25124304.0,\n   'currency': 'USD',\n   'orderQty': 0},\n  {'name': 'PFIZER INC',\n   'symbol': 'PFE',\n   'sodQty': 68934470.0,\n   'currency': 'USD',\n   'orderQty': 0},\n  {'name': 'SERVICENOW INC',\n   'symbol': 'NOW',\n   'sodQty': 2504589.0,\n   'currency': 'USD',\n   'orderQty': 0},\n  {'name': 'TEXAS INSTRUMENTS INC',\n   'symbol': 'TXN',\n   'sodQty': 11088618.0,\n   'currency': 'USD',\n   'orderQty': 0},\n  {'name': 'UNION PACIFIC CORP',\n   'symbol': 'UNP',\n   'sodQty': 7442300.0,\n   'currency': 'USD',\n   'orderQty': 0},\n  {'name': 'AMGEN INC',\n   'symbol': 'AMGN',\n   'sodQty': 6534655.0,\n   'currency': 'USD',\n   'orderQty': 0},\n  {'name': 'PHILIP MORRIS INTERNATIONAL',\n   'symbol': 'PM',\n   'sodQty': 18952978.0,\n   'currency': 'USD',\n   'orderQty': 0},\n  {'name': 'CONOCOPHILLIPS',\n   'symbol': 'COP',\n   'sodQty': 14391461.0,\n   'currency': 'USD',\n   'orderQty': 0},\n  {'name': 'LOWE S COS INC',\n   'symbol': 'LOW',\n   'sodQty': 7044144.0,\n   'currency': 'USD',\n   'orderQty': 0},\n  {'name': 'INTUITIVE SURGICAL INC',\n   'symbol': 'ISRG',\n   'sodQty': 4296840.0,\n   'currency': 'USD',\n   'orderQty': 0},\n  {'name': 'S+P GLOBAL INC',\n   'symbol': 'SPGI',\n   'sodQty': 3925356.0,\n   'currency': 'USD',\n   'orderQty': 0},\n  {'name': 'HONEYWELL INTERNATIONAL INC',\n   'symbol': 'HON',\n   'sodQty': 8048224.0,\n   'currency': 'USD',\n   'orderQty': 0},\n  {'name': 'AMERICAN EXPRESS CO',\n   'symbol': 'AXP',\n   'sodQty': 6985373.0,\n   'currency': 'USD',\n   'orderQty': 0},\n  {'name': 'GOLDMAN SACHS GROUP INC',\n   'symbol': 'GS',\n   'sodQty': 3981762.0,\n   'currency': 'USD',\n   'orderQty': 0},\n  {'name': 'RTX CORP',\n   'symbol': 'RTX',\n   'sodQty': 16208991.0,\n   'currency': 'USD',\n   'orderQty': 0},\n  {'name': 'NEXTERA ENERGY INC',\n   'symbol': 'NEE',\n   'sodQty': 25048625.0,\n   'currency': 'USD',\n   'orderQty': 0},\n  {'name': 'AT+T INC',\n   'symbol': 'T',\n   'sodQty': 87291211.0,\n   'currency': 'USD',\n   'orderQty': 0},\n  {'name': 'BOOKING HOLDINGS INC',\n   'symbol': 'BKNG',\n   'sodQty': 426286.0,\n   'currency': 'USD',\n   'orderQty': 0},\n  {'name': 'LAM RESEARCH CORP',\n   'symbol': 'LRCX',\n   'sodQty': 1601710.0,\n   'currency': 'USD',\n   'orderQty': 0},\n  {'name': 'NIKE INC CL B',\n   'symbol': 'NKE',\n   'sodQty': 14870195.0,\n   'currency': 'USD',\n   'orderQty': 0},\n  {'name': 'ELEVANCE HEALTH INC',\n   'symbol': 'ELV',\n   'sodQty': 2867968.0,\n   'currency': 'USD',\n   'orderQty': 0},\n  {'name': 'EATON CORP PLC',\n   'symbol': 'ETN',\n   'sodQty': 4876303.0,\n   'currency': 'USD',\n   'orderQty': 0},\n  {'name': 'STRYKER CORP',\n   'symbol': 'SYK',\n   'sodQty': 4128826.0,\n   'currency': 'USD',\n   'orderQty': 0},\n  {'name': 'PROGRESSIVE CORP',\n   'symbol': 'PGR',\n   'sodQty': 7142192.0,\n   'currency': 'USD',\n   'orderQty': 0},\n  {'name': 'PROLOGIS INC',\n   'symbol': 'PLD',\n   'sodQty': 11280513.0,\n   'currency': 'USD',\n   'orderQty': 0},\n  {'name': 'TJX COMPANIES INC',\n   'symbol': 'TJX',\n   'sodQty': 13965458.0,\n   'currency': 'USD',\n   'orderQty': 0},\n  {'name': 'BLACKROCK INC',\n   'symbol': 'BLK',\n   'sodQty': 1707217.0,\n   'currency': 'USD',\n   'orderQty': 0},\n  {'name': 'CITIGROUP INC',\n   'symbol': 'C',\n   'sodQty': 23248705.0,\n   'currency': 'USD',\n   'orderQty': 0},\n  {'name': 'MEDTRONIC PLC',\n   'symbol': 'MDT',\n   'sodQty': 16243030.0,\n   'currency': 'USD',\n   'orderQty': 0},\n  {'name': 'MORGAN STANLEY',\n   'symbol': 'MS',\n   'sodQty': 15304554.0,\n   'currency': 'USD',\n   'orderQty': 0},\n  {'name': 'UNITED PARCEL SERVICE CL B',\n   'symbol': 'UPS',\n   'sodQty': 8829466.0,\n   'currency': 'USD',\n   'orderQty': 0},\n  {'name': 'VERTEX PHARMACEUTICALS INC',\n   'symbol': 'VRTX',\n   'sodQty': 3145967.0,\n   'currency': 'USD',\n   'orderQty': 0},\n  {'name': 'BRISTOL MYERS SQUIBB CO',\n   'symbol': 'BMY',\n   'sodQty': 24841763.0,\n   'currency': 'USD',\n   'orderQty': 0},\n  {'name': 'CHUBB LTD',\n   'symbol': 'CB',\n   'sodQty': 4951289.0,\n   'currency': 'USD',\n   'orderQty': 0},\n  {'name': 'BOEING CO/THE',\n   'symbol': 'BA',\n   'sodQty': 7005749.0,\n   'currency': 'USD',\n   'orderQty': 0},\n  {'name': 'MICRON TECHNOLOGY INC',\n   'symbol': 'MU',\n   'sodQty': 13485108.0,\n   'currency': 'USD',\n   'orderQty': 0},\n  {'name': 'STARBUCKS CORP',\n   'symbol': 'SBUX',\n   'sodQty': 13830965.0,\n   'currency': 'USD',\n   'orderQty': 0},\n  {'name': 'THE CIGNA GROUP',\n   'symbol': 'CI',\n   'sodQty': 3572797.0,\n   'currency': 'USD',\n   'orderQty': 0},\n  {'name': 'DEERE + CO',\n   'symbol': 'DE',\n   'sodQty': 3181376.0,\n   'currency': 'USD',\n   'orderQty': 0},\n  {'name': 'MARSH + MCLENNAN COS',\n   'symbol': 'MMC',\n   'sodQty': 6019378.0,\n   'currency': 'USD',\n   'orderQty': 0},\n  {'name': 'REGENERON PHARMACEUTICALS',\n   'symbol': 'REGN',\n   'sodQty': 1290822.0,\n   'currency': 'USD',\n   'orderQty': 0},\n  {'name': 'SCHWAB (CHARLES) CORP',\n   'symbol': 'SCHW',\n   'sodQty': 18172138.0,\n   'currency': 'USD',\n   'orderQty': 0},\n  {'name': 'AUTOMATIC DATA PROCESSING',\n   'symbol': 'ADP',\n   'sodQty': 5021303.0,\n   'currency': 'USD',\n   'orderQty': 0},\n  {'name': 'US DOLLAR',\n   'symbol': '-',\n   'sodQty': 1224888594.27,\n   'currency': 'USD',\n   'orderQty': 0},\n  {'name': 'BOSTON SCIENTIFIC CORP',\n   'symbol': 'BSX',\n   'sodQty': 17881632.0,\n   'currency': 'USD',\n   'orderQty': 0},\n  {'name': 'CVS HEALTH CORP',\n   'symbol': 'CVS',\n   'sodQty': 15373275.0,\n   'currency': 'USD',\n   'orderQty': 0},\n  {'name': 'MONDELEZ INTERNATIONAL INC A',\n   'symbol': 'MDLZ',\n   'sodQty': 16448364.0,\n   'currency': 'USD',\n   'orderQty': 0},\n  {'name': 'ANALOG DEVICES INC',\n   'symbol': 'ADI',\n   'sodQty': 6081868.0,\n   'currency': 'USD',\n   'orderQty': 0},\n  {'name': 'LOCKHEED MARTIN CORP',\n   'symbol': 'LMT',\n   'sodQty': 2627570.0,\n   'currency': 'USD',\n   'orderQty': 0},\n  {'name': 'FISERV INC',\n   'symbol': 'FI',\n   'sodQty': 7327136.0,\n   'currency': 'USD',\n   'orderQty': 0},\n  {'name': 'KLA CORP',\n   'symbol': 'KLAC',\n   'sodQty': 1658852.0,\n   'currency': 'USD',\n   'orderQty': 0},\n  {'name': 'AMERICAN TOWER CORP',\n   'symbol': 'AMT',\n   'sodQty': 5691715.0,\n   'currency': 'USD',\n   'orderQty': 0},\n  {'name': 'GILEAD SCIENCES INC',\n   'symbol': 'GILD',\n   'sodQty': 15212664.0,\n   'currency': 'USD',\n   'orderQty': 0},\n  {'name': 'BLACKSTONE INC',\n   'symbol': 'BX',\n   'sodQty': 8787694.0,\n   'currency': 'USD',\n   'orderQty': 0},\n  {'name': 'SYNOPSYS INC',\n   'symbol': 'SNPS',\n   'sodQty': 1857565.0,\n   'currency': 'USD',\n   'orderQty': 0},\n  {'name': 'PALO ALTO NETWORKS INC',\n   'symbol': 'PANW',\n   'sodQty': 3851525.0,\n   'currency': 'USD',\n   'orderQty': 0},\n  {'name': 'CADENCE DESIGN SYS INC',\n   'symbol': 'CDNS',\n   'sodQty': 3321662.0,\n   'currency': 'USD',\n   'orderQty': 0},\n  {'name': 'T MOBILE US INC',\n   'symbol': 'TMUS',\n   'sodQty': 6379507.0,\n   'currency': 'USD',\n   'orderQty': 0},\n  {'name': 'ZOETIS INC',\n   'symbol': 'ZTS',\n   'sodQty': 5605593.0,\n   'currency': 'USD',\n   'orderQty': 0},\n  {'name': 'SHERWIN WILLIAMS CO/THE',\n   'symbol': 'SHW',\n   'sodQty': 2875284.0,\n   'currency': 'USD',\n   'orderQty': 0},\n  {'name': 'EQUINIX INC',\n   'symbol': 'EQIX',\n   'sodQty': 1144191.0,\n   'currency': 'USD',\n   'orderQty': 0},\n  {'name': 'ALTRIA GROUP INC',\n   'symbol': 'MO',\n   'sodQty': 21589745.0,\n   'currency': 'USD',\n   'orderQty': 0},\n  {'name': 'CME GROUP INC',\n   'symbol': 'CME',\n   'sodQty': 4396824.0,\n   'currency': 'USD',\n   'orderQty': 0},\n  {'name': 'WASTE MANAGEMENT INC',\n   'symbol': 'WM',\n   'sodQty': 4475214.0,\n   'currency': 'USD',\n   'orderQty': 0},\n  {'name': 'TARGET CORP',\n   'symbol': 'TGT',\n   'sodQty': 5634407.0,\n   'currency': 'USD',\n   'orderQty': 0},\n  {'name': 'SCHLUMBERGER LTD',\n   'symbol': 'SLB',\n   'sodQty': 17386628.0,\n   'currency': 'USD',\n   'orderQty': 0},\n  {'name': 'INTERCONTINENTAL EXCHANGE IN',\n   'symbol': 'ICE',\n   'sodQty': 6988268.0,\n   'currency': 'USD',\n   'orderQty': 0},\n  {'name': 'CHIPOTLE MEXICAN GRILL INC',\n   'symbol': 'CMG',\n   'sodQty': 334792.0,\n   'currency': 'USD',\n   'orderQty': 0},\n  {'name': 'SOUTHERN CO/THE',\n   'symbol': 'SO',\n   'sodQty': 13317617.0,\n   'currency': 'USD',\n   'orderQty': 0},\n  {'name': 'DUKE ENERGY CORP',\n   'symbol': 'DUK',\n   'sodQty': 9409736.0,\n   'currency': 'USD',\n   'orderQty': 0},\n  {'name': 'COLGATE PALMOLIVE CO',\n   'symbol': 'CL',\n   'sodQty': 10052428.0,\n   'currency': 'USD',\n   'orderQty': 0},\n  {'name': 'CSX CORP',\n   'symbol': 'CSX',\n   'sodQty': 24125763.0,\n   'currency': 'USD',\n   'orderQty': 0},\n  {'name': 'ILLINOIS TOOL WORKS',\n   'symbol': 'ITW',\n   'sodQty': 3341162.0,\n   'currency': 'USD',\n   'orderQty': 0},\n  {'name': 'EOG RESOURCES INC',\n   'symbol': 'EOG',\n   'sodQty': 7115758.0,\n   'currency': 'USD',\n   'orderQty': 0},\n  {'name': 'MARATHON PETROLEUM CORP',\n   'symbol': 'MPC',\n   'sodQty': 4495076.0,\n   'currency': 'USD',\n   'orderQty': 0},\n  {'name': 'ARISTA NETWORKS INC',\n   'symbol': 'ANET',\n   'sodQty': 3068786.0,\n   'currency': 'USD',\n   'orderQty': 0},\n  {'name': 'AIRBNB INC CLASS A',\n   'symbol': 'ABNB',\n   'sodQty': 5308622.0,\n   'currency': 'USD',\n   'orderQty': 0},\n  {'name': 'MCKESSON CORP',\n   'symbol': 'MCK',\n   'sodQty': 1605270.0,\n   'currency': 'USD',\n   'orderQty': 0},\n  {'name': 'BECTON DICKINSON AND CO',\n   'symbol': 'BDX',\n   'sodQty': 3542087.0,\n   'currency': 'USD',\n   'orderQty': 0},\n  {'name': 'PARKER HANNIFIN CORP',\n   'symbol': 'PH',\n   'sodQty': 1568457.0,\n   'currency': 'USD',\n   'orderQty': 0},\n  {'name': 'PAYPAL HOLDINGS INC',\n   'symbol': 'PYPL',\n   'sodQty': 13158963.0,\n   'currency': 'USD',\n   'orderQty': 0},\n  {'name': 'PHILLIPS 66',\n   'symbol': 'PSX',\n   'sodQty': 5252646.0,\n   'currency': 'USD',\n   'orderQty': 0},\n  {'name': 'TRANE TECHNOLOGIES PLC',\n   'symbol': 'TT',\n   'sodQty': 2787878.0,\n   'currency': 'USD',\n   'orderQty': 0},\n  {'name': 'O REILLY AUTOMOTIVE INC',\n   'symbol': 'ORLY',\n   'sodQty': 722198.0,\n   'currency': 'USD',\n   'orderQty': 0},\n  {'name': 'TRANSDIGM GROUP INC',\n   'symbol': 'TDG',\n   'sodQty': 675565.0,\n   'currency': 'USD',\n   'orderQty': 0},\n  {'name': 'NORTHROP GRUMMAN CORP',\n   'symbol': 'NOC',\n   'sodQty': 1730369.0,\n   'currency': 'USD',\n   'orderQty': 0},\n  {'name': 'AMPHENOL CORP CL A',\n   'symbol': 'APH',\n   'sodQty': 7287459.0,\n   'currency': 'USD',\n   'orderQty': 0},\n  {'name': 'US BANCORP',\n   'symbol': 'USB',\n   'sodQty': 19008400.0,\n   'currency': 'USD',\n   'orderQty': 0},\n  {'name': 'HCA HEALTHCARE INC',\n   'symbol': 'HCA',\n   'sodQty': 2418583.0,\n   'currency': 'USD',\n   'orderQty': 0},\n  {'name': 'AON PLC CLASS A',\n   'symbol': 'AON',\n   'sodQty': 2444520.0,\n   'currency': 'USD',\n   'orderQty': 0},\n  {'name': 'FREEPORT MCMORAN INC',\n   'symbol': 'FCX',\n   'sodQty': 17511636.0,\n   'currency': 'USD',\n   'orderQty': 0},\n  {'name': 'EMERSON ELECTRIC CO',\n   'symbol': 'EMR',\n   'sodQty': 6960711.0,\n   'currency': 'USD',\n   'orderQty': 0},\n  {'name': 'PACCAR INC',\n   'symbol': 'PCAR',\n   'sodQty': 6386859.0,\n   'currency': 'USD',\n   'orderQty': 0},\n  {'name': 'GENERAL DYNAMICS CORP',\n   'symbol': 'GD',\n   'sodQty': 2761160.0,\n   'currency': 'USD',\n   'orderQty': 0},\n  {'name': 'MARRIOTT INTERNATIONAL  CL A',\n   'symbol': 'MAR',\n   'sodQty': 3011360.0,\n   'currency': 'USD',\n   'orderQty': 0},\n  {'name': 'MOODY S CORP',\n   'symbol': 'MCO',\n   'sodQty': 1921009.0,\n   'currency': 'USD',\n   'orderQty': 0},\n  {'name': 'NXP SEMICONDUCTORS NV',\n   'symbol': 'NXPI',\n   'sodQty': 3146842.0,\n   'currency': 'USD',\n   'orderQty': 0},\n  {'name': 'PNC FINANCIAL SERVICES GROUP',\n   'symbol': 'PNC',\n   'sodQty': 4862757.0,\n   'currency': 'USD',\n   'orderQty': 0},\n  {'name': 'PIONEER NATURAL RESOURCES CO',\n   'symbol': 'PXD',\n   'sodQty': 2850033.0,\n   'currency': 'USD',\n   'orderQty': 0},\n  {'name': 'FEDEX CORP',\n   'symbol': 'FDX',\n   'sodQty': 2822811.0,\n   'currency': 'USD',\n   'orderQty': 0},\n  {'name': 'ROPER TECHNOLOGIES INC',\n   'symbol': 'ROP',\n   'sodQty': 1297942.0,\n   'currency': 'USD',\n   'orderQty': 0},\n  {'name': '3M CO',\n   'symbol': 'MMM',\n   'sodQty': 6750128.0,\n   'currency': 'USD',\n   'orderQty': 0},\n  {'name': 'NORFOLK SOUTHERN CORP',\n   'symbol': 'NSC',\n   'sodQty': 2760550.0,\n   'currency': 'USD',\n   'orderQty': 0},\n  {'name': 'ECOLAB INC',\n   'symbol': 'ECL',\n   'sodQty': 3098440.0,\n   'currency': 'USD',\n   'orderQty': 0},\n  {'name': 'MOTOROLA SOLUTIONS INC',\n   'symbol': 'MSI',\n   'sodQty': 2026727.0,\n   'currency': 'USD',\n   'orderQty': 0},\n  {'name': 'EDWARDS LIFESCIENCES CORP',\n   'symbol': 'EW',\n   'sodQty': 7404515.0,\n   'currency': 'USD',\n   'orderQty': 0},\n  {'name': 'VALERO ENERGY CORP',\n   'symbol': 'VLO',\n   'sodQty': 4156414.0,\n   'currency': 'USD',\n   'orderQty': 0},\n  {'name': 'CONSTELLATION ENERGY',\n   'symbol': 'CEG',\n   'sodQty': 3899604.0,\n   'currency': 'USD',\n   'orderQty': 0},\n  {'name': 'AUTODESK INC',\n   'symbol': 'ADSK',\n   'sodQty': 2609766.0,\n   'currency': 'USD',\n   'orderQty': 0},\n  {'name': 'ARTHUR J GALLAGHER + CO',\n   'symbol': 'AJG',\n   'sodQty': 2631035.0,\n   'currency': 'USD',\n   'orderQty': 0},\n  {'name': 'AUTOZONE INC',\n   'symbol': 'AZO',\n   'sodQty': 210941.0,\n   'currency': 'USD',\n   'orderQty': 0},\n  {'name': 'CINTAS CORP',\n   'symbol': 'CTAS',\n   'sodQty': 1056147.0,\n   'currency': 'USD',\n   'orderQty': 0},\n  {'name': 'LULULEMON ATHLETICA INC',\n   'symbol': 'LULU',\n   'sodQty': 1405459.0,\n   'currency': 'USD',\n   'orderQty': 0},\n  {'name': 'AIR PRODUCTS + CHEMICALS INC',\n   'symbol': 'APD',\n   'sodQty': 2715466.0,\n   'currency': 'USD',\n   'orderQty': 0},\n  {'name': 'AMERICAN INTERNATIONAL GROUP',\n   'symbol': 'AIG',\n   'sodQty': 8571215.0,\n   'currency': 'USD',\n   'orderQty': 0},\n  {'name': 'HILTON WORLDWIDE HOLDINGS IN',\n   'symbol': 'HLT',\n   'sodQty': 3080745.0,\n   'currency': 'USD',\n   'orderQty': 0},\n  {'name': 'CAPITAL ONE FINANCIAL CORP',\n   'symbol': 'COF',\n   'sodQty': 4649998.0,\n   'currency': 'USD',\n   'orderQty': 0},\n  {'name': 'WELLTOWER INC',\n   'symbol': 'WELL',\n   'sodQty': 6761490.0,\n   'currency': 'USD',\n   'orderQty': 0},\n  {'name': 'DEXCOM INC',\n   'symbol': 'DXCM',\n   'sodQty': 4716729.0,\n   'currency': 'USD',\n   'orderQty': 0},\n  {'name': 'TRAVELERS COS INC/THE',\n   'symbol': 'TRV',\n   'sodQty': 2788069.0,\n   'currency': 'USD',\n   'orderQty': 0},\n  {'name': 'SIMON PROPERTY GROUP INC',\n   'symbol': 'SPG',\n   'sodQty': 3982825.0,\n   'currency': 'USD',\n   'orderQty': 0},\n  {'name': 'ROSS STORES INC',\n   'symbol': 'ROST',\n   'sodQty': 4133186.0,\n   'currency': 'USD',\n   'orderQty': 0},\n  {'name': 'CARRIER GLOBAL CORP',\n   'symbol': 'CARR',\n   'sodQty': 10240918.0,\n   'currency': 'USD',\n   'orderQty': 0},\n  {'name': 'COPART INC',\n   'symbol': 'CPRT',\n   'sodQty': 10633756.0,\n   'currency': 'USD',\n   'orderQty': 0},\n  {'name': 'FORD MOTOR CO',\n   'symbol': 'F',\n   'sodQty': 48024195.0,\n   'currency': 'USD',\n   'orderQty': 0},\n  {'name': 'GENERAL MOTORS CO',\n   'symbol': 'GM',\n   'sodQty': 14102327.0,\n   'currency': 'USD',\n   'orderQty': 0},\n  {'name': 'TRUIST FINANCIAL CORP',\n   'symbol': 'TFC',\n   'sodQty': 16245740.0,\n   'currency': 'USD',\n   'orderQty': 0},\n  {'name': 'MICROCHIP TECHNOLOGY INC',\n   'symbol': 'MCHP',\n   'sodQty': 6605286.0,\n   'currency': 'USD',\n   'orderQty': 0},\n  {'name': 'DR HORTON INC',\n   'symbol': 'DHI',\n   'sodQty': 3677307.0,\n   'currency': 'USD',\n   'orderQty': 0},\n  {'name': 'UNITED RENTALS INC',\n   'symbol': 'URI',\n   'sodQty': 827229.0,\n   'currency': 'USD',\n   'orderQty': 0},\n  {'name': 'NUCOR CORP',\n   'symbol': 'NUE',\n   'sodQty': 3001485.0,\n   'currency': 'USD',\n   'orderQty': 0},\n  {'name': 'IQVIA HOLDINGS INC',\n   'symbol': 'IQV',\n   'sodQty': 2236464.0,\n   'currency': 'USD',\n   'orderQty': 0},\n  {'name': 'WILLIAMS COS INC',\n   'symbol': 'WMB',\n   'sodQty': 14864476.0,\n   'currency': 'USD',\n   'orderQty': 0},\n  {'name': 'ONEOK INC',\n   'symbol': 'OKE',\n   'sodQty': 7122025.0,\n   'currency': 'USD',\n   'orderQty': 0},\n  {'name': 'CROWN CASTLE INC',\n   'symbol': 'CCI',\n   'sodQty': 5299830.0,\n   'currency': 'USD',\n   'orderQty': 0},\n  {'name': 'AFLAC INC',\n   'symbol': 'AFL',\n   'sodQty': 6489215.0,\n   'currency': 'USD',\n   'orderQty': 0},\n  {'name': 'MONSTER BEVERAGE CORP',\n   'symbol': 'MNST',\n   'sodQty': 9019136.0,\n   'currency': 'USD',\n   'orderQty': 0},\n  {'name': 'MSCI INC',\n   'symbol': 'MSCI',\n   'sodQty': 966273.0,\n   'currency': 'USD',\n   'orderQty': 0},\n  {'name': 'METLIFE INC',\n   'symbol': 'MET',\n   'sodQty': 7498736.0,\n   'currency': 'USD',\n   'orderQty': 0},\n  {'name': 'IDEXX LABORATORIES INC',\n   'symbol': 'IDXX',\n   'sodQty': 1015061.0,\n   'currency': 'USD',\n   'orderQty': 0},\n  {'name': 'SEMPRA',\n   'symbol': 'SRE',\n   'sodQty': 7687454.0,\n   'currency': 'USD',\n   'orderQty': 0},\n  {'name': 'SUPER MICRO COMPUTER INC',\n   'symbol': 'SMCI',\n   'sodQty': 594618.0,\n   'currency': 'USD',\n   'orderQty': 0},\n  {'name': 'WW GRAINGER INC',\n   'symbol': 'GWW',\n   'sodQty': 539064.0,\n   'currency': 'USD',\n   'orderQty': 0},\n  {'name': 'PUBLIC STORAGE',\n   'symbol': 'PSA',\n   'sodQty': 1933895.0,\n   'currency': 'USD',\n   'orderQty': 0},\n  {'name': 'AMERICAN ELECTRIC POWER',\n   'symbol': 'AEP',\n   'sodQty': 6420017.0,\n   'currency': 'USD',\n   'orderQty': 0},\n  {'name': 'TE CONNECTIVITY LTD',\n   'symbol': 'TEL',\n   'sodQty': 3792641.0,\n   'currency': 'USD',\n   'orderQty': 0},\n  {'name': 'FASTENAL CO',\n   'symbol': 'FAST',\n   'sodQty': 6982393.0,\n   'currency': 'USD',\n   'orderQty': 0},\n  {'name': 'CONSTELLATION BRANDS INC A',\n   'symbol': 'STZ',\n   'sodQty': 1972684.0,\n   'currency': 'USD',\n   'orderQty': 0},\n  {'name': 'JOHNSON CONTROLS INTERNATION',\n   'symbol': 'JCI',\n   'sodQty': 8312533.0,\n   'currency': 'USD',\n   'orderQty': 0},\n  {'name': 'AMERIPRISE FINANCIAL INC',\n   'symbol': 'AMP',\n   'sodQty': 1234331.0,\n   'currency': 'USD',\n   'orderQty': 0},\n  {'name': 'HUMANA INC',\n   'symbol': 'HUM',\n   'sodQty': 1502955.0,\n   'currency': 'USD',\n   'orderQty': 0},\n  {'name': 'REALTY INCOME CORP',\n   'symbol': 'O',\n   'sodQty': 10140845.0,\n   'currency': 'USD',\n   'orderQty': 0},\n  {'name': 'FORTINET INC',\n   'symbol': 'FTNT',\n   'sodQty': 7781012.0,\n   'currency': 'USD',\n   'orderQty': 0},\n  {'name': 'AGILENT TECHNOLOGIES INC',\n   'symbol': 'A',\n   'sodQty': 3572477.0,\n   'currency': 'USD',\n   'orderQty': 0},\n  {'name': 'DIGITAL REALTY TRUST INC',\n   'symbol': 'DLR',\n   'sodQty': 3699503.0,\n   'currency': 'USD',\n   'orderQty': 0},\n  {'name': 'ALLSTATE CORP',\n   'symbol': 'ALL',\n   'sodQty': 3197057.0,\n   'currency': 'USD',\n   'orderQty': 0},\n  {'name': 'OCCIDENTAL PETROLEUM CORP',\n   'symbol': 'OXY',\n   'sodQty': 8060140.0,\n   'currency': 'USD',\n   'orderQty': 0},\n  {'name': 'KIMBERLY CLARK CORP',\n   'symbol': 'KMB',\n   'sodQty': 4125212.0,\n   'currency': 'USD',\n   'orderQty': 0},\n  {'name': 'CENTENE CORP',\n   'symbol': 'CNC',\n   'sodQty': 6521785.0,\n   'currency': 'USD',\n   'orderQty': 0},\n  {'name': 'HESS CORP',\n   'symbol': 'HES',\n   'sodQty': 3375540.0,\n   'currency': 'USD',\n   'orderQty': 0},\n  {'name': 'BANK OF NEW YORK MELLON CORP',\n   'symbol': 'BK',\n   'sodQty': 9276434.0,\n   'currency': 'USD',\n   'orderQty': 0},\n  {'name': 'AMETEK INC',\n   'symbol': 'AME',\n   'sodQty': 2816283.0,\n   'currency': 'USD',\n   'orderQty': 0},\n  {'name': 'FIDELITY NATIONAL INFO SERV',\n   'symbol': 'FIS',\n   'sodQty': 7240287.0,\n   'currency': 'USD',\n   'orderQty': 0},\n  {'name': 'PRUDENTIAL FINANCIAL INC',\n   'symbol': 'PRU',\n   'sodQty': 4406973.0,\n   'currency': 'USD',\n   'orderQty': 0},\n  {'name': 'SYSCO CORP',\n   'symbol': 'SYY',\n   'sodQty': 6152161.0,\n   'currency': 'USD',\n   'orderQty': 0},\n  {'name': 'DOMINION ENERGY INC',\n   'symbol': 'D',\n   'sodQty': 10217704.0,\n   'currency': 'USD',\n   'orderQty': 0},\n  {'name': 'OTIS WORLDWIDE CORP',\n   'symbol': 'OTIS',\n   'sodQty': 4994526.0,\n   'currency': 'USD',\n   'orderQty': 0},\n  {'name': 'CENCORA INC',\n   'symbol': 'COR',\n   'sodQty': 2035578.0,\n   'currency': 'USD',\n   'orderQty': 0},\n  {'name': 'L3HARRIS TECHNOLOGIES INC',\n   'symbol': 'LHX',\n   'sodQty': 2313991.0,\n   'currency': 'USD',\n   'orderQty': 0},\n  {'name': 'LENNAR CORP A',\n   'symbol': 'LEN',\n   'sodQty': 3052402.0,\n   'currency': 'USD',\n   'orderQty': 0},\n  {'name': 'CUMMINS INC W/D',\n   'symbol': 'CMI',\n   'sodQty': 1732086.0,\n   'currency': 'USD',\n   'orderQty': 0},\n  {'name': 'DOW INC',\n   'symbol': 'DOW',\n   'sodQty': 8563673.0,\n   'currency': 'USD',\n   'orderQty': 0},\n  {'name': 'GENERAL MILLS INC',\n   'symbol': 'GIS',\n   'sodQty': 6937290.0,\n   'currency': 'USD',\n   'orderQty': 0},\n  {'name': 'PAYCHEX INC',\n   'symbol': 'PAYX',\n   'sodQty': 3925945.0,\n   'currency': 'USD',\n   'orderQty': 0},\n  {'name': 'NEWMONT CORP',\n   'symbol': 'NEM',\n   'sodQty': 14087984.0,\n   'currency': 'USD',\n   'orderQty': 0},\n  {'name': 'YUM  BRANDS INC',\n   'symbol': 'YUM',\n   'sodQty': 3428214.0,\n   'currency': 'USD',\n   'orderQty': 0},\n  {'name': 'CORTEVA INC',\n   'symbol': 'CTVA',\n   'sodQty': 8602407.0,\n   'currency': 'USD',\n   'orderQty': 0},\n  {'name': 'REPUBLIC SERVICES INC',\n   'symbol': 'RSG',\n   'sodQty': 2496470.0,\n   'currency': 'USD',\n   'orderQty': 0},\n  {'name': 'COSTAR GROUP INC',\n   'symbol': 'CSGP',\n   'sodQty': 4978945.0,\n   'currency': 'USD',\n   'orderQty': 0},\n  {'name': 'OLD DOMINION FREIGHT LINE',\n   'symbol': 'ODFL',\n   'sodQty': 1092276.0,\n   'currency': 'USD',\n   'orderQty': 0},\n  {'name': 'COGNIZANT TECH SOLUTIONS A',\n   'symbol': 'CTSH',\n   'sodQty': 6119795.0,\n   'currency': 'USD',\n   'orderQty': 0},\n  {'name': 'MARTIN MARIETTA MATERIALS',\n   'symbol': 'MLM',\n   'sodQty': 755449.0,\n   'currency': 'USD',\n   'orderQty': 0},\n  {'name': 'GARTNER INC',\n   'symbol': 'IT',\n   'sodQty': 951352.0,\n   'currency': 'USD',\n   'orderQty': 0},\n  {'name': 'INGERSOLL RAND INC',\n   'symbol': 'IR',\n   'sodQty': 4944736.0,\n   'currency': 'USD',\n   'orderQty': 0},\n  {'name': 'KROGER CO',\n   'symbol': 'KR',\n   'sodQty': 7987832.0,\n   'currency': 'USD',\n   'orderQty': 0},\n  {'name': 'GE HEALTHCARE TECHNOLOGY',\n   'symbol': 'GEHC',\n   'sodQty': 4951261.0,\n   'currency': 'USD',\n   'orderQty': 0},\n  {'name': 'EXELON CORP',\n   'symbol': 'EXC',\n   'sodQty': 12162721.0,\n   'currency': 'USD',\n   'orderQty': 0},\n  {'name': 'QUANTA SERVICES INC',\n   'symbol': 'PWR',\n   'sodQty': 1775778.0,\n   'currency': 'USD',\n   'orderQty': 0},\n  {'name': 'VULCAN MATERIALS CO',\n   'symbol': 'VMC',\n   'sodQty': 1623874.0,\n   'currency': 'USD',\n   'orderQty': 0},\n  {'name': 'KENVUE INC',\n   'symbol': 'KVUE',\n   'sodQty': 21059042.0,\n   'currency': 'USD',\n   'orderQty': 0},\n  {'name': 'MODERNA INC',\n   'symbol': 'MRNA',\n   'sodQty': 4045298.0,\n   'currency': 'USD',\n   'orderQty': 0},\n  {'name': 'P G + E CORP',\n   'symbol': 'PCG',\n   'sodQty': 26063297.0,\n   'currency': 'USD',\n   'orderQty': 0},\n  {'name': 'KINDER MORGAN INC',\n   'symbol': 'KMI',\n   'sodQty': 23611472.0,\n   'currency': 'USD',\n   'orderQty': 0},\n  {'name': 'DIAMONDBACK ENERGY INC',\n   'symbol': 'FANG',\n   'sodQty': 2187062.0,\n   'currency': 'USD',\n   'orderQty': 0},\n  {'name': 'VERISK ANALYTICS INC',\n   'symbol': 'VRSK',\n   'sodQty': 1772051.0,\n   'currency': 'USD',\n   'orderQty': 0},\n  {'name': 'HALLIBURTON CO',\n   'symbol': 'HAL',\n   'sodQty': 10923925.0,\n   'currency': 'USD',\n   'orderQty': 0},\n  {'name': 'GLOBAL PAYMENTS INC',\n   'symbol': 'GPN',\n   'sodQty': 3181001.0,\n   'currency': 'USD',\n   'orderQty': 0},\n  {'name': 'ESTEE LAUDER COMPANIES CL A',\n   'symbol': 'EL',\n   'sodQty': 2840569.0,\n   'currency': 'USD',\n   'orderQty': 0},\n  {'name': 'ARCH CAPITAL GROUP LTD',\n   'symbol': 'ACGL',\n   'sodQty': 4529145.0,\n   'currency': 'USD',\n   'orderQty': 0},\n  {'name': 'DOLLAR GENERAL CORP',\n   'symbol': 'DG',\n   'sodQty': 2679913.0,\n   'currency': 'USD',\n   'orderQty': 0},\n  {'name': 'BAKER HUGHES CO',\n   'symbol': 'BKR',\n   'sodQty': 12259904.0,\n   'currency': 'USD',\n   'orderQty': 0},\n  {'name': 'PPG INDUSTRIES INC',\n   'symbol': 'PPG',\n   'sodQty': 2868604.0,\n   'currency': 'USD',\n   'orderQty': 0},\n  {'name': 'CDW CORP/DE',\n   'symbol': 'CDW',\n   'sodQty': 1637529.0,\n   'currency': 'USD',\n   'orderQty': 0},\n  {'name': 'ARCHER DANIELS MIDLAND CO',\n   'symbol': 'ADM',\n   'sodQty': 6512198.0,\n   'currency': 'USD',\n   'orderQty': 0},\n  {'name': 'ELECTRONIC ARTS INC',\n   'symbol': 'EA',\n   'sodQty': 2986865.0,\n   'currency': 'USD',\n   'orderQty': 0},\n  {'name': 'ROCKWELL AUTOMATION INC',\n   'symbol': 'ROK',\n   'sodQty': 1401433.0,\n   'currency': 'USD',\n   'orderQty': 0},\n  {'name': 'PUBLIC SERVICE ENTERPRISE GP',\n   'symbol': 'PEG',\n   'sodQty': 6083707.0,\n   'currency': 'USD',\n   'orderQty': 0},\n  {'name': 'EQUIFAX INC',\n   'symbol': 'EFX',\n   'sodQty': 1499167.0,\n   'currency': 'USD',\n   'orderQty': 0},\n  {'name': 'ON SEMICONDUCTOR',\n   'symbol': 'ON',\n   'sodQty': 5257204.0,\n   'currency': 'USD',\n   'orderQty': 0},\n  {'name': 'DUPONT DE NEMOURS INC',\n   'symbol': 'DD',\n   'sodQty': 5249943.0,\n   'currency': 'USD',\n   'orderQty': 0},\n  {'name': 'BIOGEN INC',\n   'symbol': 'BIIB',\n   'sodQty': 1768251.0,\n   'currency': 'USD',\n   'orderQty': 0},\n  {'name': 'MONOLITHIC POWER SYSTEMS INC',\n   'symbol': 'MPWR',\n   'sodQty': 584681.0,\n   'currency': 'USD',\n   'orderQty': 0},\n  {'name': 'DEVON ENERGY CORP',\n   'symbol': 'DVN',\n   'sodQty': 7835979.0,\n   'currency': 'USD',\n   'orderQty': 0},\n  {'name': 'CONSOLIDATED EDISON INC',\n   'symbol': 'ED',\n   'sodQty': 4219784.0,\n   'currency': 'USD',\n   'orderQty': 0},\n  {'name': 'XYLEM INC',\n   'symbol': 'XYL',\n   'sodQty': 2922240.0,\n   'currency': 'USD',\n   'orderQty': 0},\n  {'name': 'FAIR ISAAC CORP',\n   'symbol': 'FICO',\n   'sodQty': 302050.0,\n   'currency': 'USD',\n   'orderQty': 0},\n  {'name': 'ROYAL CARIBBEAN CRUISES LTD',\n   'symbol': 'RCL',\n   'sodQty': 2883185.0,\n   'currency': 'USD',\n   'orderQty': 0},\n  {'name': 'KEURIG DR PEPPER INC',\n   'symbol': 'KDP',\n   'sodQty': 12722697.0,\n   'currency': 'USD',\n   'orderQty': 0},\n  {'name': 'HERSHEY CO/THE',\n   'symbol': 'HSY',\n   'sodQty': 1833209.0,\n   'currency': 'USD',\n   'orderQty': 0},\n  {'name': 'DISCOVER FINANCIAL SERVICES',\n   'symbol': 'DFS',\n   'sodQty': 3057144.0,\n   'currency': 'USD',\n   'orderQty': 0},\n  {'name': 'HARTFORD FINANCIAL SVCS GRP',\n   'symbol': 'HIG',\n   'sodQty': 3670375.0,\n   'currency': 'USD',\n   'orderQty': 0},\n  {'name': 'FORTIVE CORP',\n   'symbol': 'FTV',\n   'sodQty': 4295011.0,\n   'currency': 'USD',\n   'orderQty': 0},\n  {'name': 'ANSYS INC',\n   'symbol': 'ANSS',\n   'sodQty': 1060943.0,\n   'currency': 'USD',\n   'orderQty': 0},\n  {'name': 'VICI PROPERTIES INC',\n   'symbol': 'VICI',\n   'sodQty': 12630083.0,\n   'currency': 'USD',\n   'orderQty': 0},\n  {'name': 'CHARTER COMMUNICATIONS INC A',\n   'symbol': 'CHTR',\n   'sodQty': 1206771.0,\n   'currency': 'USD',\n   'orderQty': 0},\n  {'name': 'WEST PHARMACEUTICAL SERVICES',\n   'symbol': 'WST',\n   'sodQty': 903654.0,\n   'currency': 'USD',\n   'orderQty': 0},\n  {'name': 'EXTRA SPACE STORAGE INC',\n   'symbol': 'EXR',\n   'sodQty': 2581138.0,\n   'currency': 'USD',\n   'orderQty': 0},\n  {'name': 'XCEL ENERGY INC',\n   'symbol': 'XEL',\n   'sodQty': 6702998.0,\n   'currency': 'USD',\n   'orderQty': 0},\n  {'name': 'RESMED INC',\n   'symbol': 'RMD',\n   'sodQty': 1793445.0,\n   'currency': 'USD',\n   'orderQty': 0},\n  {'name': 'METTLER TOLEDO INTERNATIONAL',\n   'symbol': 'MTD',\n   'sodQty': 264834.0,\n   'currency': 'USD',\n   'orderQty': 0},\n  {'name': 'WILLIS TOWERS WATSON PLC',\n   'symbol': 'WTW',\n   'sodQty': 1260323.0,\n   'currency': 'USD',\n   'orderQty': 0},\n  {'name': 'DELTA AIR LINES INC',\n   'symbol': 'DAL',\n   'sodQty': 7860312.0,\n   'currency': 'USD',\n   'orderQty': 0},\n  {'name': 'KRAFT HEINZ CO/THE',\n   'symbol': 'KHC',\n   'sodQty': 9718968.0,\n   'currency': 'USD',\n   'orderQty': 0},\n  {'name': 'CBRE GROUP INC   A',\n   'symbol': 'CBRE',\n   'sodQty': 3633322.0,\n   'currency': 'USD',\n   'orderQty': 0},\n  {'name': 'CARDINAL HEALTH INC',\n   'symbol': 'CAH',\n   'sodQty': 3006663.0,\n   'currency': 'USD',\n   'orderQty': 0},\n  {'name': 'TRACTOR SUPPLY COMPANY',\n   'symbol': 'TSCO',\n   'sodQty': 1319740.0,\n   'currency': 'USD',\n   'orderQty': 0},\n  {'name': 'EBAY INC',\n   'symbol': 'EBAY',\n   'sodQty': 6336200.0,\n   'currency': 'USD',\n   'orderQty': 0},\n  {'name': 'DOLLAR TREE INC',\n   'symbol': 'DLTR',\n   'sodQty': 2548187.0,\n   'currency': 'USD',\n   'orderQty': 0},\n  {'name': 'EDISON INTERNATIONAL',\n   'symbol': 'EIX',\n   'sodQty': 4676426.0,\n   'currency': 'USD',\n   'orderQty': 0},\n  {'name': 'KEYSIGHT TECHNOLOGIES IN',\n   'symbol': 'KEYS',\n   'sodQty': 2166702.0,\n   'currency': 'USD',\n   'orderQty': 0},\n  {'name': 'ZIMMER BIOMET HOLDINGS INC',\n   'symbol': 'ZBH',\n   'sodQty': 2555840.0,\n   'currency': 'USD',\n   'orderQty': 0},\n  {'name': 'HOWMET AEROSPACE INC',\n   'symbol': 'HWM',\n   'sodQty': 4780434.0,\n   'currency': 'USD',\n   'orderQty': 0},\n  {'name': 'ULTA BEAUTY INC',\n   'symbol': 'ULTA',\n   'sodQty': 600796.0,\n   'currency': 'USD',\n   'orderQty': 0},\n  {'name': 'HP INC',\n   'symbol': 'HPQ',\n   'sodQty': 10600766.0,\n   'currency': 'USD',\n   'orderQty': 0},\n  {'name': 'CHURCH + DWIGHT CO INC',\n   'symbol': 'CHD',\n   'sodQty': 2991446.0,\n   'currency': 'USD',\n   'orderQty': 0},\n  {'name': 'T ROWE PRICE GROUP INC',\n   'symbol': 'TROW',\n   'sodQty': 2728420.0,\n   'currency': 'USD',\n   'orderQty': 0},\n  {'name': 'AVALONBAY COMMUNITIES INC',\n   'symbol': 'AVB',\n   'sodQty': 1714078.0,\n   'currency': 'USD',\n   'orderQty': 0},\n  {'name': 'WEC ENERGY GROUP INC',\n   'symbol': 'WEC',\n   'sodQty': 3854116.0,\n   'currency': 'USD',\n   'orderQty': 0},\n  {'name': 'WABTEC CORP',\n   'symbol': 'WAB',\n   'sodQty': 2190444.0,\n   'currency': 'USD',\n   'orderQty': 0},\n  {'name': 'LYONDELLBASELL INDU CL A',\n   'symbol': 'LYB',\n   'sodQty': 3106656.0,\n   'currency': 'USD',\n   'orderQty': 0},\n  {'name': 'WEYERHAEUSER CO',\n   'symbol': 'WY',\n   'sodQty': 8920878.0,\n   'currency': 'USD',\n   'orderQty': 0},\n  {'name': 'CORNING INC',\n   'symbol': 'GLW',\n   'sodQty': 9338102.0,\n   'currency': 'USD',\n   'orderQty': 0},\n  {'name': 'NVR INC',\n   'symbol': 'NVR',\n   'sodQty': 38933.0,\n   'currency': 'USD',\n   'orderQty': 0},\n  {'name': 'BUILDERS FIRSTSOURCE INC',\n   'symbol': 'BLDR',\n   'sodQty': 1506238.0,\n   'currency': 'USD',\n   'orderQty': 0},\n  {'name': 'DOVER CORP',\n   'symbol': 'DOV',\n   'sodQty': 1709201.0,\n   'currency': 'USD',\n   'orderQty': 0},\n  {'name': 'MOLINA HEALTHCARE INC',\n   'symbol': 'MOH',\n   'sodQty': 709473.0,\n   'currency': 'USD',\n   'orderQty': 0},\n  {'name': 'TARGA RESOURCES CORP',\n   'symbol': 'TRGP',\n   'sodQty': 2721921.0,\n   'currency': 'USD',\n   'orderQty': 0},\n  {'name': 'FIFTH THIRD BANCORP',\n   'symbol': 'FITB',\n   'sodQty': 8329021.0,\n   'currency': 'USD',\n   'orderQty': 0},\n  {'name': 'PULTEGROUP INC',\n   'symbol': 'PHM',\n   'sodQty': 2630065.0,\n   'currency': 'USD',\n   'orderQty': 0},\n  {'name': 'BROADRIDGE FINANCIAL SOLUTIO',\n   'symbol': 'BR',\n   'sodQty': 1437811.0,\n   'currency': 'USD',\n   'orderQty': 0},\n  {'name': 'IRON MOUNTAIN INC',\n   'symbol': 'IRM',\n   'sodQty': 3564111.0,\n   'currency': 'USD',\n   'orderQty': 0},\n  {'name': 'DECKERS OUTDOOR CORP',\n   'symbol': 'DECK',\n   'sodQty': 313330.0,\n   'currency': 'USD',\n   'orderQty': 0},\n  {'name': 'SBA COMMUNICATIONS CORP',\n   'symbol': 'SBAC',\n   'sodQty': 1317069.0,\n   'currency': 'USD',\n   'orderQty': 0},\n  {'name': 'M + T BANK CORP',\n   'symbol': 'MTB',\n   'sodQty': 2027729.0,\n   'currency': 'USD',\n   'orderQty': 0},\n  {'name': 'RAYMOND JAMES FINANCIAL INC',\n   'symbol': 'RJF',\n   'sodQty': 2300002.0,\n   'currency': 'USD',\n   'orderQty': 0},\n  {'name': 'TAKE TWO INTERACTIVE SOFTWRE',\n   'symbol': 'TTWO',\n   'sodQty': 1932242.0,\n   'currency': 'USD',\n   'orderQty': 0},\n  {'name': 'AMERICAN WATER WORKS CO INC',\n   'symbol': 'AWK',\n   'sodQty': 2367664.0,\n   'currency': 'USD',\n   'orderQty': 0},\n  {'name': 'DTE ENERGY COMPANY',\n   'symbol': 'DTE',\n   'sodQty': 2519849.0,\n   'currency': 'USD',\n   'orderQty': 0},\n  {'name': 'STERIS PLC',\n   'symbol': 'STE',\n   'sodQty': 1207382.0,\n   'currency': 'USD',\n   'orderQty': 0},\n  {'name': 'ALIGN TECHNOLOGY INC',\n   'symbol': 'ALGN',\n   'sodQty': 870310.0,\n   'currency': 'USD',\n   'orderQty': 0},\n  {'name': 'GARMIN LTD',\n   'symbol': 'GRMN',\n   'sodQty': 1871801.0,\n   'currency': 'USD',\n   'orderQty': 0},\n  {'name': 'STATE STREET CORP',\n   'symbol': 'STT',\n   'sodQty': 3763005.0,\n   'currency': 'USD',\n   'orderQty': 0},\n  {'name': 'PTC INC',\n   'symbol': 'PTC',\n   'sodQty': 1454569.0,\n   'currency': 'USD',\n   'orderQty': 0},\n  {'name': 'FLEETCOR TECHNOLOGIES INC',\n   'symbol': 'FLT',\n   'sodQty': 881656.0,\n   'currency': 'USD',\n   'orderQty': 0},\n  {'name': 'APTIV PLC',\n   'symbol': 'APTV',\n   'sodQty': 3457823.0,\n   'currency': 'USD',\n   'orderQty': 0},\n  {'name': 'AXON ENTERPRISE INC',\n   'symbol': 'AXON',\n   'sodQty': 861918.0,\n   'currency': 'USD',\n   'orderQty': 0},\n  {'name': 'ENTERGY CORP',\n   'symbol': 'ETR',\n   'sodQty': 2584791.0,\n   'currency': 'USD',\n   'orderQty': 0},\n  {'name': 'GENUINE PARTS CO',\n   'symbol': 'GPC',\n   'sodQty': 1713352.0,\n   'currency': 'USD',\n   'orderQty': 0},\n  {'name': 'NETAPP INC',\n   'symbol': 'NTAP',\n   'sodQty': 2547029.0,\n   'currency': 'USD',\n   'orderQty': 0},\n  {'name': 'HEWLETT PACKARD ENTERPRISE',\n   'symbol': 'HPE',\n   'sodQty': 15674356.0,\n   'currency': 'USD',\n   'orderQty': 0},\n  {'name': 'STEEL DYNAMICS INC',\n   'symbol': 'STLD',\n   'sodQty': 1856686.0,\n   'currency': 'USD',\n   'orderQty': 0},\n  {'name': 'EQUITY RESIDENTIAL',\n   'symbol': 'EQR',\n   'sodQty': 4180531.0,\n   'currency': 'USD',\n   'orderQty': 0},\n  {'name': 'HUBBELL INC',\n   'symbol': 'HUBB',\n   'sodQty': 654620.0,\n   'currency': 'USD',\n   'orderQty': 0},\n  {'name': 'BAXTER INTERNATIONAL INC',\n   'symbol': 'BAX',\n   'sodQty': 6188541.0,\n   'currency': 'USD',\n   'orderQty': 0},\n  {'name': 'INTL FLAVORS + FRAGRANCES',\n   'symbol': 'IFF',\n   'sodQty': 3121665.0,\n   'currency': 'USD',\n   'orderQty': 0},\n  {'name': 'NASDAQ INC',\n   'symbol': 'NDAQ',\n   'sodQty': 4137356.0,\n   'currency': 'USD',\n   'orderQty': 0},\n  {'name': 'ILLUMINA INC',\n   'symbol': 'ILMN',\n   'sodQty': 1926416.0,\n   'currency': 'USD',\n   'orderQty': 0},\n  {'name': 'DARDEN RESTAURANTS INC',\n   'symbol': 'DRI',\n   'sodQty': 1468542.0,\n   'currency': 'USD',\n   'orderQty': 0},\n  {'name': 'WATERS CORP',\n   'symbol': 'WAT',\n   'sodQty': 722751.0,\n   'currency': 'USD',\n   'orderQty': 0},\n  {'name': 'EVERSOURCE ENERGY',\n   'symbol': 'ES',\n   'sodQty': 4270035.0,\n   'currency': 'USD',\n   'orderQty': 0},\n  {'name': 'COTERRA ENERGY INC',\n   'symbol': 'CTRA',\n   'sodQty': 9184628.0,\n   'currency': 'USD',\n   'orderQty': 0},\n  {'name': 'BALL CORP',\n   'symbol': 'BALL',\n   'sodQty': 3835160.0,\n   'currency': 'USD',\n   'orderQty': 0},\n  {'name': 'COOPER COS INC/THE',\n   'symbol': 'COO',\n   'sodQty': 2418801.0,\n   'currency': 'USD',\n   'orderQty': 0},\n  {'name': 'BROWN + BROWN INC',\n   'symbol': 'BRO',\n   'sodQty': 2882017.0,\n   'currency': 'USD',\n   'orderQty': 0},\n  {'name': 'INVITATION HOMES INC',\n   'symbol': 'INVH',\n   'sodQty': 7034313.0,\n   'currency': 'USD',\n   'orderQty': 0},\n  {'name': 'PPL CORP',\n   'symbol': 'PPL',\n   'sodQty': 8975351.0,\n   'currency': 'USD',\n   'orderQty': 0},\n  {'name': 'TELEDYNE TECHNOLOGIES INC',\n   'symbol': 'TDY',\n   'sodQty': 574829.0,\n   'currency': 'USD',\n   'orderQty': 0},\n  {'name': 'FIRSTENERGY CORP',\n   'symbol': 'FE',\n   'sodQty': 6313150.0,\n   'currency': 'USD',\n   'orderQty': 0},\n  {'name': 'CBOE GLOBAL MARKETS INC',\n   'symbol': 'CBOE',\n   'sodQty': 1289476.0,\n   'currency': 'USD',\n   'orderQty': 0},\n  {'name': 'ALEXANDRIA REAL ESTATE EQUIT',\n   'symbol': 'ARE',\n   'sodQty': 1905583.0,\n   'currency': 'USD',\n   'orderQty': 0},\n  {'name': 'VERALTO CORP',\n   'symbol': 'VLTO',\n   'sodQty': 2679572.0,\n   'currency': 'USD',\n   'orderQty': 0},\n  {'name': 'WESTERN DIGITAL CORP',\n   'symbol': 'WDC',\n   'sodQty': 3916731.0,\n   'currency': 'USD',\n   'orderQty': 0},\n  {'name': 'CLOROX COMPANY',\n   'symbol': 'CLX',\n   'sodQty': 1515490.0,\n   'currency': 'USD',\n   'orderQty': 0},\n  {'name': 'JACOBS SOLUTIONS INC',\n   'symbol': 'J',\n   'sodQty': 1540864.0,\n   'currency': 'USD',\n   'orderQty': 0},\n  {'name': 'WARNER BROS DISCOVERY INC',\n   'symbol': 'WBD',\n   'sodQty': 27095852.0,\n   'currency': 'USD',\n   'orderQty': 0},\n  {'name': 'LAS VEGAS SANDS CORP',\n   'symbol': 'LVS',\n   'sodQty': 4511127.0,\n   'currency': 'USD',\n   'orderQty': 0},\n  {'name': 'AMEREN CORPORATION',\n   'symbol': 'AEE',\n   'sodQty': 3168940.0,\n   'currency': 'USD',\n   'orderQty': 0},\n  {'name': 'HUNTINGTON BANCSHARES INC',\n   'symbol': 'HBAN',\n   'sodQty': 17526151.0,\n   'currency': 'USD',\n   'orderQty': 0},\n  {'name': 'CINCINNATI FINANCIAL CORP',\n   'symbol': 'CINF',\n   'sodQty': 1918480.0,\n   'currency': 'USD',\n   'orderQty': 0},\n  {'name': 'OMNICOM GROUP',\n   'symbol': 'OMC',\n   'sodQty': 2417248.0,\n   'currency': 'USD',\n   'orderQty': 0},\n  {'name': 'TEXTRON INC',\n   'symbol': 'TXT',\n   'sodQty': 2392557.0,\n   'currency': 'USD',\n   'orderQty': 0},\n  {'name': 'FACTSET RESEARCH SYSTEMS INC',\n   'symbol': 'FDS',\n   'sodQty': 464133.0,\n   'currency': 'USD',\n   'orderQty': 0},\n  {'name': 'PRINCIPAL FINANCIAL GROUP',\n   'symbol': 'PFG',\n   'sodQty': 2677609.0,\n   'currency': 'USD',\n   'orderQty': 0},\n  {'name': 'IDEX CORP',\n   'symbol': 'IEX',\n   'sodQty': 919112.0,\n   'currency': 'USD',\n   'orderQty': 0},\n  {'name': 'EXPEDIA GROUP INC',\n   'symbol': 'EXPE',\n   'sodQty': 1626554.0,\n   'currency': 'USD',\n   'orderQty': 0},\n  {'name': 'REGIONS FINANCIAL CORP',\n   'symbol': 'RF',\n   'sodQty': 11351616.0,\n   'currency': 'USD',\n   'orderQty': 0},\n  {'name': 'HOLOGIC INC',\n   'symbol': 'HOLX',\n   'sodQty': 2867195.0,\n   'currency': 'USD',\n   'orderQty': 0},\n  {'name': 'LABORATORY CRP OF AMER HLDGS',\n   'symbol': 'LH',\n   'sodQty': 1036043.0,\n   'currency': 'USD',\n   'orderQty': 0},\n  {'name': 'CENTERPOINT ENERGY INC',\n   'symbol': 'CNP',\n   'sodQty': 7718510.0,\n   'currency': 'USD',\n   'orderQty': 0},\n  {'name': 'TYLER TECHNOLOGIES INC',\n   'symbol': 'TYL',\n   'sodQty': 510189.0,\n   'currency': 'USD',\n   'orderQty': 0},\n  {'name': 'WR BERKLEY CORP',\n   'symbol': 'WRB',\n   'sodQty': 2487873.0,\n   'currency': 'USD',\n   'orderQty': 0},\n  {'name': 'LEIDOS HOLDINGS INC',\n   'symbol': 'LDOS',\n   'sodQty': 1666280.0,\n   'currency': 'USD',\n   'orderQty': 0},\n  {'name': 'MCCORMICK + CO NON VTG SHRS',\n   'symbol': 'MKC',\n   'sodQty': 3067533.0,\n   'currency': 'USD',\n   'orderQty': 0},\n  {'name': 'VENTAS INC',\n   'symbol': 'VTR',\n   'sodQty': 4905615.0,\n   'currency': 'USD',\n   'orderQty': 0},\n  {'name': 'SYNCHRONY FINANCIAL',\n   'symbol': 'SYF',\n   'sodQty': 5048187.0,\n   'currency': 'USD',\n   'orderQty': 0},\n  {'name': 'AVERY DENNISON CORP',\n   'symbol': 'AVY',\n   'sodQty': 986115.0,\n   'currency': 'USD',\n   'orderQty': 0},\n  {'name': 'ATMOS ENERGY CORP',\n   'symbol': 'ATO',\n   'sodQty': 1817854.0,\n   'currency': 'USD',\n   'orderQty': 0},\n  {'name': 'EXPEDITORS INTL WASH INC',\n   'symbol': 'EXPD',\n   'sodQty': 1774633.0,\n   'currency': 'USD',\n   'orderQty': 0},\n  {'name': 'CMS ENERGY CORP',\n   'symbol': 'CMS',\n   'sodQty': 3571880.0,\n   'currency': 'USD',\n   'orderQty': 0},\n  {'name': 'VERISIGN INC',\n   'symbol': 'VRSN',\n   'sodQty': 1083735.0,\n   'currency': 'USD',\n   'orderQty': 0},\n  {'name': 'NORTHERN TRUST CORP',\n   'symbol': 'NTRS',\n   'sodQty': 2531043.0,\n   'currency': 'USD',\n   'orderQty': 0},\n  {'name': 'MASCO CORP',\n   'symbol': 'MAS',\n   'sodQty': 2747820.0,\n   'currency': 'USD',\n   'orderQty': 0},\n  {'name': 'EPAM SYSTEMS INC',\n   'symbol': 'EPAM',\n   'sodQty': 699660.0,\n   'currency': 'USD',\n   'orderQty': 0},\n  {'name': 'SOUTHWEST AIRLINES CO',\n   'symbol': 'LUV',\n   'sodQty': 7270527.0,\n   'currency': 'USD',\n   'orderQty': 0},\n  {'name': 'EVEREST GROUP LTD',\n   'symbol': 'EG',\n   'sodQty': 527221.0,\n   'currency': 'USD',\n   'orderQty': 0},\n  {'name': 'SEAGATE TECHNOLOGY HOLDINGS',\n   'symbol': 'STX',\n   'sodQty': 2360298.0,\n   'currency': 'USD',\n   'orderQty': 0},\n  {'name': 'SKYWORKS SOLUTIONS INC',\n   'symbol': 'SWKS',\n   'sodQty': 1949496.0,\n   'currency': 'USD',\n   'orderQty': 0},\n  {'name': 'CF INDUSTRIES HOLDINGS INC',\n   'symbol': 'CF',\n   'sodQty': 2332277.0,\n   'currency': 'USD',\n   'orderQty': 0},\n  {'name': 'PACKAGING CORP OF AMERICA',\n   'symbol': 'PKG',\n   'sodQty': 1094010.0,\n   'currency': 'USD',\n   'orderQty': 0},\n  {'name': 'TYSON FOODS INC CL A',\n   'symbol': 'TSN',\n   'sodQty': 3489403.0,\n   'currency': 'USD',\n   'orderQty': 0},\n  {'name': 'AKAMAI TECHNOLOGIES INC',\n   'symbol': 'AKAM',\n   'sodQty': 1842115.0,\n   'currency': 'USD',\n   'orderQty': 0},\n  {'name': 'CARNIVAL CORP',\n   'symbol': 'CCL',\n   'sodQty': 12289649.0,\n   'currency': 'USD',\n   'orderQty': 0},\n  {'name': 'CELANESE CORP',\n   'symbol': 'CE',\n   'sodQty': 1215865.0,\n   'currency': 'USD',\n   'orderQty': 0},\n  {'name': 'JABIL INC',\n   'symbol': 'JBL',\n   'sodQty': 1562056.0,\n   'currency': 'USD',\n   'orderQty': 0},\n  {'name': 'TERADYNE INC',\n   'symbol': 'TER',\n   'sodQty': 1866888.0,\n   'currency': 'USD',\n   'orderQty': 0},\n  {'name': 'TRIMBLE INC',\n   'symbol': 'TRMB',\n   'sodQty': 3039417.0,\n   'currency': 'USD',\n   'orderQty': 0},\n  {'name': 'MARATHON OIL CORP',\n   'symbol': 'MRO',\n   'sodQty': 7144624.0,\n   'currency': 'USD',\n   'orderQty': 0},\n  {'name': 'FIRST SOLAR INC',\n   'symbol': 'FSLR',\n   'sodQty': 1306733.0,\n   'currency': 'USD',\n   'orderQty': 0},\n  {'name': 'POOL CORP',\n   'symbol': 'POOL',\n   'sodQty': 472289.0,\n   'currency': 'USD',\n   'orderQty': 0},\n  {'name': 'CITIZENS FINANCIAL GROUP',\n   'symbol': 'CFG',\n   'sodQty': 5692190.0,\n   'currency': 'USD',\n   'orderQty': 0},\n  {'name': 'HUNT (JB) TRANSPRT SVCS INC',\n   'symbol': 'JBHT',\n   'sodQty': 995744.0,\n   'currency': 'USD',\n   'orderQty': 0},\n  {'name': 'DOMINO S PIZZA INC',\n   'symbol': 'DPZ',\n   'sodQty': 426100.0,\n   'currency': 'USD',\n   'orderQty': 0},\n  {'name': 'SNAP ON INC',\n   'symbol': 'SNA',\n   'sodQty': 646376.0,\n   'currency': 'USD',\n   'orderQty': 0},\n  {'name': 'ESSEX PROPERTY TRUST INC',\n   'symbol': 'ESS',\n   'sodQty': 784525.0,\n   'currency': 'USD',\n   'orderQty': 0},\n  {'name': 'MID AMERICA APARTMENT COMM',\n   'symbol': 'MAA',\n   'sodQty': 1416221.0,\n   'currency': 'USD',\n   'orderQty': 0},\n  {'name': 'NRG ENERGY INC',\n   'symbol': 'NRG',\n   'sodQty': 2756479.0,\n   'currency': 'USD',\n   'orderQty': 0},\n  {'name': 'BEST BUY CO INC',\n   'symbol': 'BBY',\n   'sodQty': 2367352.0,\n   'currency': 'USD',\n   'orderQty': 0},\n  {'name': 'LAMB WESTON HOLDINGS INC',\n   'symbol': 'LW',\n   'sodQty': 1754687.0,\n   'currency': 'USD',\n   'orderQty': 0},\n  {'name': 'ENPHASE ENERGY INC',\n   'symbol': 'ENPH',\n   'sodQty': 1666441.0,\n   'currency': 'USD',\n   'orderQty': 0},\n  {'name': 'WALGREENS BOOTS ALLIANCE INC',\n   'symbol': 'WBA',\n   'sodQty': 8782903.0,\n   'currency': 'USD',\n   'orderQty': 0},\n  {'name': 'LIVE NATION ENTERTAINMENT IN',\n   'symbol': 'LYV',\n   'sodQty': 1732191.0,\n   'currency': 'USD',\n   'orderQty': 0},\n  {'name': 'ZEBRA TECHNOLOGIES CORP CL A',\n   'symbol': 'ZBRA',\n   'sodQty': 626552.0,\n   'currency': 'USD',\n   'orderQty': 0},\n  {'name': 'HOST HOTELS + RESORTS INC',\n   'symbol': 'HST',\n   'sodQty': 8612679.0,\n   'currency': 'USD',\n   'orderQty': 0},\n  {'name': 'KELLANOVA',\n   'symbol': 'K',\n   'sodQty': 3225643.0,\n   'currency': 'USD',\n   'orderQty': 0},\n  {'name': 'UNITED AIRLINES HOLDINGS INC',\n   'symbol': 'UAL',\n   'sodQty': 4002410.0,\n   'currency': 'USD',\n   'orderQty': 0},\n  {'name': 'QUEST DIAGNOSTICS INC',\n   'symbol': 'DGX',\n   'sodQty': 1361450.0,\n   'currency': 'USD',\n   'orderQty': 0},\n  {'name': 'VIATRIS INC',\n   'symbol': 'VTRS',\n   'sodQty': 14671699.0,\n   'currency': 'USD',\n   'orderQty': 0},\n  {'name': 'BUNGE GLOBAL SA',\n   'symbol': 'BG',\n   'sodQty': 1773454.0,\n   'currency': 'USD',\n   'orderQty': 0},\n  {'name': 'LOEWS CORP',\n   'symbol': 'L',\n   'sodQty': 2234556.0,\n   'currency': 'USD',\n   'orderQty': 0},\n  {'name': 'ALBEMARLE CORP',\n   'symbol': 'ALB',\n   'sodQty': 1434656.0,\n   'currency': 'USD',\n   'orderQty': 0},\n  {'name': 'NORDSON CORP',\n   'symbol': 'NDSN',\n   'sodQty': 658168.0,\n   'currency': 'USD',\n   'orderQty': 0},\n  {'name': 'STANLEY BLACK + DECKER INC',\n   'symbol': 'SWK',\n   'sodQty': 1879303.0,\n   'currency': 'USD',\n   'orderQty': 0},\n  {'name': 'LKQ CORP',\n   'symbol': 'LKQ',\n   'sodQty': 3273216.0,\n   'currency': 'USD',\n   'orderQty': 0},\n  {'name': 'EQT CORP',\n   'symbol': 'EQT',\n   'sodQty': 5021632.0,\n   'currency': 'USD',\n   'orderQty': 0},\n  {'name': 'CONAGRA BRANDS INC',\n   'symbol': 'CAG',\n   'sodQty': 5808124.0,\n   'currency': 'USD',\n   'orderQty': 0},\n  {'name': 'CHARLES RIVER LABORATORIES',\n   'symbol': 'CRL',\n   'sodQty': 622920.0,\n   'currency': 'USD',\n   'orderQty': 0},\n  {'name': 'KEYCORP',\n   'symbol': 'KEY',\n   'sodQty': 11443233.0,\n   'currency': 'USD',\n   'orderQty': 0},\n  {'name': 'AMCOR PLC',\n   'symbol': 'AMCR',\n   'sodQty': 17645696.0,\n   'currency': 'USD',\n   'orderQty': 0},\n  {'name': 'PENTAIR PLC',\n   'symbol': 'PNR',\n   'sodQty': 2004497.0,\n   'currency': 'USD',\n   'orderQty': 0},\n  {'name': 'INTERNATIONAL PAPER CO',\n   'symbol': 'IP',\n   'sodQty': 4227434.0,\n   'currency': 'USD',\n   'orderQty': 0},\n  {'name': 'ROLLINS INC',\n   'symbol': 'ROL',\n   'sodQty': 3427080.0,\n   'currency': 'USD',\n   'orderQty': 0},\n  {'name': 'REVVITY INC',\n   'symbol': 'RVTY',\n   'sodQty': 1506438.0,\n   'currency': 'USD',\n   'orderQty': 0},\n  {'name': 'JM SMUCKER CO/THE',\n   'symbol': 'SJM',\n   'sodQty': 1253471.0,\n   'currency': 'USD',\n   'orderQty': 0},\n  {'name': 'CARMAX INC',\n   'symbol': 'KMX',\n   'sodQty': 1935467.0,\n   'currency': 'USD',\n   'orderQty': 0},\n  {'name': 'KIMCO REALTY CORP',\n   'symbol': 'KIM',\n   'sodQty': 8137201.0,\n   'currency': 'USD',\n   'orderQty': 0},\n  {'name': 'MOLSON COORS BEVERAGE CO   B',\n   'symbol': 'TAP',\n   'sodQty': 2269272.0,\n   'currency': 'USD',\n   'orderQty': 0},\n  {'name': 'JACK HENRY + ASSOCIATES INC',\n   'symbol': 'JKHY',\n   'sodQty': 891203.0,\n   'currency': 'USD',\n   'orderQty': 0},\n  {'name': 'WESTROCK CO',\n   'symbol': 'WRK',\n   'sodQty': 3103257.0,\n   'currency': 'USD',\n   'orderQty': 0},\n  {'name': 'HEALTHPEAK PROPERTIES INC',\n   'symbol': 'DOC',\n   'sodQty': 8639818.0,\n   'currency': 'USD',\n   'orderQty': 0},\n  {'name': 'INTERPUBLIC GROUP OF COS INC',\n   'symbol': 'IPG',\n   'sodQty': 4686282.0,\n   'currency': 'USD',\n   'orderQty': 0},\n  {'name': 'ALLIANT ENERGY CORP',\n   'symbol': 'LNT',\n   'sodQty': 3080257.0,\n   'currency': 'USD',\n   'orderQty': 0},\n  {'name': 'MGM RESORTS INTERNATIONAL',\n   'symbol': 'MGM',\n   'sodQty': 3335969.0,\n   'currency': 'USD',\n   'orderQty': 0},\n  {'name': 'GEN DIGITAL INC',\n   'symbol': 'GEN',\n   'sodQty': 6882600.0,\n   'currency': 'USD',\n   'orderQty': 0},\n  {'name': 'EVERGY INC',\n   'symbol': 'EVRG',\n   'sodQty': 2813155.0,\n   'currency': 'USD',\n   'orderQty': 0},\n  {'name': 'INSULET CORP',\n   'symbol': 'PODD',\n   'sodQty': 852859.0,\n   'currency': 'USD',\n   'orderQty': 0},\n  {'name': 'JUNIPER NETWORKS INC',\n   'symbol': 'JNPR',\n   'sodQty': 3894704.0,\n   'currency': 'USD',\n   'orderQty': 0},\n  {'name': 'ALLEGION PLC',\n   'symbol': 'ALLE',\n   'sodQty': 1072419.0,\n   'currency': 'USD',\n   'orderQty': 0},\n  {'name': 'HUNTINGTON INGALLS INDUSTRIE',\n   'symbol': 'HII',\n   'sodQty': 485958.0,\n   'currency': 'USD',\n   'orderQty': 0},\n  {'name': 'F5 INC',\n   'symbol': 'FFIV',\n   'sodQty': 724910.0,\n   'currency': 'USD',\n   'orderQty': 0},\n  {'name': 'BIO TECHNE CORP',\n   'symbol': 'TECH',\n   'sodQty': 1927484.0,\n   'currency': 'USD',\n   'orderQty': 0},\n  {'name': 'UDR INC',\n   'symbol': 'UDR',\n   'sodQty': 3707025.0,\n   'currency': 'USD',\n   'orderQty': 0},\n  {'name': 'EASTMAN CHEMICAL CO',\n   'symbol': 'EMN',\n   'sodQty': 1449051.0,\n   'currency': 'USD',\n   'orderQty': 0},\n  {'name': 'UNIVERSAL HEALTH SERVICES B',\n   'symbol': 'UHS',\n   'sodQty': 744695.0,\n   'currency': 'USD',\n   'orderQty': 0},\n  {'name': 'NISOURCE INC',\n   'symbol': 'NI',\n   'sodQty': 4944630.0,\n   'currency': 'USD',\n   'orderQty': 0},\n  {'name': 'INCYTE CORP',\n   'symbol': 'INCY',\n   'sodQty': 2272707.0,\n   'currency': 'USD',\n   'orderQty': 0},\n  {'name': 'BATH + BODY WORKS INC',\n   'symbol': 'BBWI',\n   'sodQty': 2781085.0,\n   'currency': 'USD',\n   'orderQty': 0},\n  {'name': 'QORVO INC',\n   'symbol': 'QRVO',\n   'sodQty': 1190788.0,\n   'currency': 'USD',\n   'orderQty': 0},\n  {'name': 'TAPESTRY INC',\n   'symbol': 'TPR',\n   'sodQty': 2797899.0,\n   'currency': 'USD',\n   'orderQty': 0},\n  {'name': 'SMITH (A.O.) CORP',\n   'symbol': 'AOS',\n   'sodQty': 1499777.0,\n   'currency': 'USD',\n   'orderQty': 0},\n  {'name': 'MOSAIC CO/THE',\n   'symbol': 'MOS',\n   'sodQty': 3990245.0,\n   'currency': 'USD',\n   'orderQty': 0},\n  {'name': 'AES CORP',\n   'symbol': 'AES',\n   'sodQty': 8189824.0,\n   'currency': 'USD',\n   'orderQty': 0},\n  {'name': 'DAYFORCE INC',\n   'symbol': 'DAY',\n   'sodQty': 1872211.0,\n   'currency': 'USD',\n   'orderQty': 0},\n  {'name': 'CAMDEN PROPERTY TRUST',\n   'symbol': 'CPT',\n   'sodQty': 1305306.0,\n   'currency': 'USD',\n   'orderQty': 0},\n  {'name': 'TELEFLEX INC',\n   'symbol': 'TFX',\n   'sodQty': 575260.0,\n   'currency': 'USD',\n   'orderQty': 0},\n  {'name': 'APA CORP',\n   'symbol': 'APA',\n   'sodQty': 3752053.0,\n   'currency': 'USD',\n   'orderQty': 0},\n  {'name': 'CATALENT INC',\n   'symbol': 'CTLT',\n   'sodQty': 2207423.0,\n   'currency': 'USD',\n   'orderQty': 0},\n  {'name': 'GLOBE LIFE INC',\n   'symbol': 'GL',\n   'sodQty': 1045939.0,\n   'currency': 'USD',\n   'orderQty': 0},\n  {'name': 'HORMEL FOODS CORP',\n   'symbol': 'HRL',\n   'sodQty': 3531499.0,\n   'currency': 'USD',\n   'orderQty': 0},\n  {'name': 'NEWS CORP  CLASS A',\n   'symbol': 'NWSA',\n   'sodQty': 4659701.0,\n   'currency': 'USD',\n   'orderQty': 0},\n  {'name': 'REGENCY CENTERS CORP',\n   'symbol': 'REG',\n   'sodQty': 2010900.0,\n   'currency': 'USD',\n   'orderQty': 0},\n  {'name': 'HENRY SCHEIN INC',\n   'symbol': 'HSIC',\n   'sodQty': 1597286.0,\n   'currency': 'USD',\n   'orderQty': 0},\n  {'name': 'MATCH GROUP INC',\n   'symbol': 'MTCH',\n   'sodQty': 3318072.0,\n   'currency': 'USD',\n   'orderQty': 0},\n  {'name': 'WYNN RESORTS LTD',\n   'symbol': 'WYNN',\n   'sodQty': 1172010.0,\n   'currency': 'USD',\n   'orderQty': 0},\n  {'name': 'BROWN FORMAN CORP CLASS B',\n   'symbol': 'BF.B',\n   'sodQty': 2208819.0,\n   'currency': 'USD',\n   'orderQty': 0},\n  {'name': 'ASSURANT INC',\n   'symbol': 'AIZ',\n   'sodQty': 641897.0,\n   'currency': 'USD',\n   'orderQty': 0},\n  {'name': 'PAYCOM SOFTWARE INC',\n   'symbol': 'PAYC',\n   'sodQty': 595214.0,\n   'currency': 'USD',\n   'orderQty': 0},\n  {'name': 'AMERICAN AIRLINES GROUP INC',\n   'symbol': 'AAL',\n   'sodQty': 7978545.0,\n   'currency': 'USD',\n   'orderQty': 0},\n  {'name': 'BOSTON PROPERTIES INC',\n   'symbol': 'BXP',\n   'sodQty': 1721655.0,\n   'currency': 'USD',\n   'orderQty': 0},\n  {'name': 'C.H. ROBINSON WORLDWIDE INC',\n   'symbol': 'CHRW',\n   'sodQty': 1423880.0,\n   'currency': 'USD',\n   'orderQty': 0},\n  {'name': 'CAMPBELL SOUP CO',\n   'symbol': 'CPB',\n   'sodQty': 2407309.0,\n   'currency': 'USD',\n   'orderQty': 0},\n  {'name': 'CAESARS ENTERTAINMENT INC',\n   'symbol': 'CZR',\n   'sodQty': 2596917.0,\n   'currency': 'USD',\n   'orderQty': 0},\n  {'name': 'ROBERT HALF INC',\n   'symbol': 'RHI',\n   'sodQty': 1291886.0,\n   'currency': 'USD',\n   'orderQty': 0},\n  {'name': 'MARKETAXESS HOLDINGS INC',\n   'symbol': 'MKTX',\n   'sodQty': 459420.0,\n   'currency': 'USD',\n   'orderQty': 0},\n  {'name': 'PINNACLE WEST CAPITAL',\n   'symbol': 'PNW',\n   'sodQty': 1371928.0,\n   'currency': 'USD',\n   'orderQty': 0},\n  {'name': 'NORWEGIAN CRUISE LINE HOLDIN',\n   'symbol': 'NCLH',\n   'sodQty': 5072003.0,\n   'currency': 'USD',\n   'orderQty': 0},\n  {'name': 'ETSY INC',\n   'symbol': 'ETSY',\n   'sodQty': 1461891.0,\n   'currency': 'USD',\n   'orderQty': 0},\n  {'name': 'FMC CORP',\n   'symbol': 'FMC',\n   'sodQty': 1535278.0,\n   'currency': 'USD',\n   'orderQty': 0},\n  {'name': 'FRANKLIN RESOURCES INC',\n   'symbol': 'BEN',\n   'sodQty': 3452923.0,\n   'currency': 'USD',\n   'orderQty': 0},\n  {'name': 'BORGWARNER INC',\n   'symbol': 'BWA',\n   'sodQty': 2870844.0,\n   'currency': 'USD',\n   'orderQty': 0},\n  {'name': 'DAVITA INC',\n   'symbol': 'DVA',\n   'sodQty': 658787.0,\n   'currency': 'USD',\n   'orderQty': 0},\n  {'name': 'FOX CORP   CLASS A',\n   'symbol': 'FOXA',\n   'sodQty': 3013335.0,\n   'currency': 'USD',\n   'orderQty': 0},\n  {'name': 'FEDERAL REALTY INVS TRUST',\n   'symbol': 'FRT',\n   'sodQty': 896286.0,\n   'currency': 'USD',\n   'orderQty': 0},\n  {'name': 'RALPH LAUREN CORP',\n   'symbol': 'RL',\n   'sodQty': 484561.0,\n   'currency': 'USD',\n   'orderQty': 0},\n  {'name': 'DENTSPLY SIRONA INC',\n   'symbol': 'XRAY',\n   'sodQty': 2590120.0,\n   'currency': 'USD',\n   'orderQty': 0},\n  {'name': 'BIO RAD LABORATORIES A',\n   'symbol': 'BIO',\n   'sodQty': 254747.0,\n   'currency': 'USD',\n   'orderQty': 0},\n  {'name': 'GENERAC HOLDINGS INC',\n   'symbol': 'GNRC',\n   'sodQty': 749633.0,\n   'currency': 'USD',\n   'orderQty': 0},\n  {'name': 'INVESCO LTD',\n   'symbol': 'IVZ',\n   'sodQty': 5507726.0,\n   'currency': 'USD',\n   'orderQty': 0},\n  {'name': 'HASBRO INC',\n   'symbol': 'HAS',\n   'sodQty': 1558239.0,\n   'currency': 'USD',\n   'orderQty': 0},\n  {'name': 'COMERICA INC',\n   'symbol': 'CMA',\n   'sodQty': 1605470.0,\n   'currency': 'USD',\n   'orderQty': 0},\n  {'name': 'MOHAWK INDUSTRIES INC',\n   'symbol': 'MHK',\n   'sodQty': 627392.0,\n   'currency': 'USD',\n   'orderQty': 0},\n  {'name': 'PARAMOUNT GLOBAL CLASS B',\n   'symbol': 'PARA',\n   'sodQty': 5898665.0,\n   'currency': 'USD',\n   'orderQty': 0},\n  {'name': 'VF CORP',\n   'symbol': 'VFC',\n   'sodQty': 4049110.0,\n   'currency': 'USD',\n   'orderQty': 0},\n  {'name': 'FOX CORP   CLASS B',\n   'symbol': 'FOX',\n   'sodQty': 1613107.0,\n   'currency': 'USD',\n   'orderQty': 0},\n  {'name': 'NEWS CORP  CLASS B',\n   'symbol': 'NWS',\n   'sodQty': 1412468.0,\n   'currency': 'USD',\n   'orderQty': 0}]}"
     },
     "execution_count": 39,
     "metadata": {},
     "output_type": "execute_result"
    }
   ],
   "source": [
    "account_holding = {\n",
    "  'accountCode': 'BBB',\n",
    "  'parentAccount': 'SPY',\n",
    "  'holdings': holding_df.to_dict(orient='records')\n",
    "}\n",
    "account_holding"
   ],
   "metadata": {
    "collapsed": false,
    "ExecuteTime": {
     "end_time": "2024-04-01T16:56:17.682246Z",
     "start_time": "2024-04-01T16:56:17.602219Z"
    }
   },
   "id": "c505fa5a119e271d",
   "execution_count": 39
  },
  {
   "cell_type": "markdown",
   "source": [
    "## Publish holding data (SPY)"
   ],
   "metadata": {
    "collapsed": false
   },
   "id": "471ac86904bd7a29"
  },
  {
   "cell_type": "code",
   "outputs": [
    {
     "name": "stdout",
     "output_type": "stream",
     "text": [
      "BBB 504 items produced.\n"
     ]
    }
   ],
   "source": [
    "try:\n",
    "  producer.produce(holding_topic_name, key=account_holding['accountCode'],\n",
    "                   value=json.dumps(account_holding))\n",
    "except Exception as e:\n",
    "  print(f'Failed to publish {account_holding[\"accountCode\"]}')\n",
    "\n",
    "producer.flush()\n",
    "print(f'{account_holding[\"accountCode\"]} {len(holding_df)} items produced.')"
   ],
   "metadata": {
    "collapsed": false,
    "ExecuteTime": {
     "end_time": "2024-04-01T16:56:24.515586Z",
     "start_time": "2024-04-01T16:56:24.483119Z"
    }
   },
   "id": "a65aa2e90de2c20a",
   "execution_count": 40
  },
  {
   "cell_type": "code",
   "outputs": [
    {
     "name": "stdout",
     "output_type": "stream",
     "text": [
      "Received message: A {\"symbol\": \"A\", \"name\": \"Agilent Technologies Inc\", \"exchange\": \"NYSE\", \"assetType\": \"Stock\", \"status\": \"Active\", \"price\": 147.39}\n"
     ]
    },
    {
     "data": {
      "text/plain": "<function Consumer.close>"
     },
     "execution_count": 16,
     "metadata": {},
     "output_type": "execute_result"
    }
   ],
   "source": [
    "consumer = Consumer({\n",
    "  **conf,\n",
    "  'group.id': 'test-client-1',\n",
    "  'auto.offset.reset': 'earliest'\n",
    "})\n",
    "\n",
    "consumer.subscribe([price_topic_name])\n",
    "msg = consumer.poll(1.0)\n",
    "if msg is None:\n",
    "  print(\"No messages\")\n",
    "elif msg.error():\n",
    "  raise KafkaException(msg.error())\n",
    "else:\n",
    "  print(f'Received message: {msg.key().decode(\"utf-8\")} {msg.value().decode(\"utf-8\")}')\n",
    "\n",
    "consumer.close"
   ],
   "metadata": {
    "collapsed": false,
    "ExecuteTime": {
     "end_time": "2024-03-21T08:00:51.138717Z",
     "start_time": "2024-03-21T08:00:50.885699Z"
    }
   },
   "id": "8457830380f9ce20",
   "execution_count": 16
  },
  {
   "cell_type": "code",
   "outputs": [
    {
     "name": "stdout",
     "output_type": "stream",
     "text": [
      "No messages\n"
     ]
    },
    {
     "data": {
      "text/plain": "<function Consumer.close>"
     },
     "execution_count": 19,
     "metadata": {},
     "output_type": "execute_result"
    }
   ],
   "source": [
    "consumer = Consumer({\n",
    "  **conf,\n",
    "  'group.id': 'test-client-1',\n",
    "  'auto.offset.reset': 'earliest'\n",
    "})\n",
    "\n",
    "consumer.subscribe([holding_topic_name])\n",
    "msg = consumer.poll(1.0)\n",
    "if msg is None:\n",
    "  print(\"No messages\")\n",
    "elif msg.error():\n",
    "  raise KafkaException(msg.error())\n",
    "else:\n",
    "  print(f'Received message: {msg.key().decode(\"utf-8\")} {msg.value().decode(\"utf-8\")}')\n",
    "\n",
    "consumer.close"
   ],
   "metadata": {
    "collapsed": false,
    "ExecuteTime": {
     "end_time": "2024-03-21T08:01:15.548148Z",
     "start_time": "2024-03-21T08:01:14.480936Z"
    }
   },
   "id": "9092f2e16224d5a5",
   "execution_count": 19
  },
  {
   "cell_type": "code",
   "outputs": [],
   "source": [],
   "metadata": {
    "collapsed": false
   },
   "id": "9ad916cd1b971148"
  }
 ],
 "metadata": {
  "kernelspec": {
   "display_name": "Python 3",
   "language": "python",
   "name": "python3"
  },
  "language_info": {
   "codemirror_mode": {
    "name": "ipython",
    "version": 2
   },
   "file_extension": ".py",
   "mimetype": "text/x-python",
   "name": "python",
   "nbconvert_exporter": "python",
   "pygments_lexer": "ipython2",
   "version": "2.7.6"
  }
 },
 "nbformat": 4,
 "nbformat_minor": 5
}
