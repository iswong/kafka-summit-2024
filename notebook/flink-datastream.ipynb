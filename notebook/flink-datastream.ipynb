{
 "cells": [
  {
   "cell_type": "markdown",
   "source": [
    "# Python Datastream API"
   ],
   "metadata": {
    "collapsed": false
   },
   "id": "1cfc6a8bcfc95237"
  },
  {
   "cell_type": "code",
   "outputs": [],
   "source": [
    "%load_ext autoreload\n",
    "%autoreload 2"
   ],
   "metadata": {
    "collapsed": false,
    "ExecuteTime": {
     "end_time": "2024-03-21T07:41:32.372719Z",
     "start_time": "2024-03-21T07:41:32.359483Z"
    }
   },
   "id": "e622d9bf89478b18",
   "execution_count": 1
  },
  {
   "cell_type": "code",
   "outputs": [],
   "source": [
    "import sys\n",
    "import pandas as pd\n",
    "import numpy as np\n",
    "import json\n",
    "\n",
    "from pyflink.common import Types\n",
    "from pyflink.datastream import StreamExecutionEnvironment\n",
    "from pyflink.datastream.connectors.kafka import FlinkKafkaProducer, FlinkKafkaConsumer\n",
    "from pyflink.datastream.formats.json import JsonRowSerializationSchema, JsonRowDeserializationSchema"
   ],
   "metadata": {
    "collapsed": false,
    "ExecuteTime": {
     "end_time": "2024-03-21T08:14:08.756551Z",
     "start_time": "2024-03-21T08:14:08.646249Z"
    }
   },
   "id": "e8bd304f123df2f5",
   "execution_count": 4
  },
  {
   "cell_type": "code",
   "outputs": [
    {
     "name": "stdout",
     "output_type": "stream",
     "text": [
      "  % Total    % Received % Xferd  Average Speed   Time    Time     Time  Current\r\n",
      "                                 Dload  Upload   Total   Spent    Left  Speed\r\n",
      "100  465k  100  465k    0     0  4129k      0 --:--:-- --:--:-- --:--:-- 4155k\r\n"
     ]
    }
   ],
   "source": [
    "!curl -O https://repo1.maven.org/maven2/org/apache/flink/flink-connector-kafka/3.1.0-1.18/flink-connector-kafka-3.1.0-1.18.jar"
   ],
   "metadata": {
    "collapsed": false,
    "ExecuteTime": {
     "end_time": "2024-03-21T08:32:54.917187Z",
     "start_time": "2024-03-21T08:32:54.429318Z"
    }
   },
   "id": "94d4cd0ebb5700ec",
   "execution_count": 6
  },
  {
   "cell_type": "code",
   "outputs": [
    {
     "name": "stdout",
     "output_type": "stream",
     "text": [
      "  % Total    % Received % Xferd  Average Speed   Time    Time     Time  Current\r\n",
      "                                 Dload  Upload   Total   Spent    Left  Speed\r\n",
      "100 5465k  100 5465k    0     0  30.8M      0 --:--:-- --:--:-- --:--:-- 31.0M\r\n"
     ]
    }
   ],
   "source": [
    "!curl -O https://repo1.maven.org/maven2/org/apache/flink/flink-sql-connector-kafka/3.1.0-1.18/flink-sql-connector-kafka-3.1.0-1.18.jar"
   ],
   "metadata": {
    "collapsed": false,
    "ExecuteTime": {
     "end_time": "2024-03-21T08:44:41.355441Z",
     "start_time": "2024-03-21T08:44:40.849250Z"
    }
   },
   "id": "4db682a7be6e719a",
   "execution_count": 14
  },
  {
   "cell_type": "code",
   "outputs": [],
   "source": [
    "env = StreamExecutionEnvironment.get_execution_environment()\n",
    "env.add_jars(\"file:///Users/chriswong/Projects/kafka-summit-2024/notebook/flink-sql-connector-kafka-3.1.0-1.18.jar\")\n"
   ],
   "metadata": {
    "collapsed": false,
    "ExecuteTime": {
     "end_time": "2024-03-21T08:52:50.579445Z",
     "start_time": "2024-03-21T08:52:50.462984Z"
    }
   },
   "id": "f2eb99258e7cb075",
   "execution_count": 17
  },
  {
   "cell_type": "code",
   "outputs": [
    {
     "data": {
      "text/plain": "{'flink.servers': '',\n 'kafka.brokers': 'localhost:49523',\n 'kafka.topic.price.name': 'local.price',\n 'kafka.topic.holding.name': 'local.holding',\n 'kafka.topic.order.name': 'local.order'}"
     },
     "execution_count": 5,
     "metadata": {},
     "output_type": "execute_result"
    }
   ],
   "source": [
    "with open('../config.json') as fp:\n",
    "    config_obj = json.load(fp)\n",
    "config_obj"
   ],
   "metadata": {
    "collapsed": false,
    "ExecuteTime": {
     "end_time": "2024-03-21T08:14:10.651855Z",
     "start_time": "2024-03-21T08:14:10.594775Z"
    }
   },
   "id": "d68d1421a17b82dc",
   "execution_count": 5
  },
  {
   "cell_type": "code",
   "outputs": [
    {
     "ename": "Py4JJavaError",
     "evalue": "An error occurred while calling None.org.apache.flink.streaming.connectors.kafka.FlinkKafkaConsumer.\n: java.lang.NoClassDefFoundError: org/apache/kafka/common/serialization/ByteArrayDeserializer\n\tat org.apache.flink.streaming.connectors.kafka.FlinkKafkaConsumer.setDeserializer(FlinkKafkaConsumer.java:323)\n\tat org.apache.flink.streaming.connectors.kafka.FlinkKafkaConsumer.<init>(FlinkKafkaConsumer.java:224)\n\tat org.apache.flink.streaming.connectors.kafka.FlinkKafkaConsumer.<init>(FlinkKafkaConsumer.java:155)\n\tat org.apache.flink.streaming.connectors.kafka.FlinkKafkaConsumer.<init>(FlinkKafkaConsumer.java:140)\n\tat java.base/jdk.internal.reflect.NativeConstructorAccessorImpl.newInstance0(Native Method)\n\tat java.base/jdk.internal.reflect.NativeConstructorAccessorImpl.newInstance(NativeConstructorAccessorImpl.java:77)\n\tat java.base/jdk.internal.reflect.DelegatingConstructorAccessorImpl.newInstance(DelegatingConstructorAccessorImpl.java:45)\n\tat java.base/java.lang.reflect.Constructor.newInstanceWithCaller(Constructor.java:499)\n\tat java.base/java.lang.reflect.Constructor.newInstance(Constructor.java:480)\n\tat org.apache.flink.api.python.shaded.py4j.reflection.MethodInvoker.invoke(MethodInvoker.java:247)\n\tat org.apache.flink.api.python.shaded.py4j.reflection.ReflectionEngine.invoke(ReflectionEngine.java:374)\n\tat org.apache.flink.api.python.shaded.py4j.Gateway.invoke(Gateway.java:238)\n\tat org.apache.flink.api.python.shaded.py4j.commands.ConstructorCommand.invokeConstructor(ConstructorCommand.java:80)\n\tat org.apache.flink.api.python.shaded.py4j.commands.ConstructorCommand.execute(ConstructorCommand.java:69)\n\tat org.apache.flink.api.python.shaded.py4j.GatewayConnection.run(GatewayConnection.java:238)\n\tat java.base/java.lang.Thread.run(Thread.java:840)\nCaused by: java.lang.ClassNotFoundException: org.apache.kafka.common.serialization.ByteArrayDeserializer\n\t... 16 more\n",
     "output_type": "error",
     "traceback": [
      "\u001B[0;31m---------------------------------------------------------------------------\u001B[0m",
      "\u001B[0;31mPy4JJavaError\u001B[0m                             Traceback (most recent call last)",
      "Cell \u001B[0;32mIn[18], line 8\u001B[0m\n\u001B[1;32m      2\u001B[0m price_topic \u001B[38;5;241m=\u001B[39m config_obj[\u001B[38;5;124m'\u001B[39m\u001B[38;5;124mkafka.topic.price.name\u001B[39m\u001B[38;5;124m'\u001B[39m]\n\u001B[1;32m      4\u001B[0m deserialization_schema \u001B[38;5;241m=\u001B[39m JsonRowDeserializationSchema\u001B[38;5;241m.\u001B[39mBuilder() \\\n\u001B[1;32m      5\u001B[0m     \u001B[38;5;241m.\u001B[39mtype_info(Types\u001B[38;5;241m.\u001B[39mROW([Types\u001B[38;5;241m.\u001B[39mSTRING(), Types\u001B[38;5;241m.\u001B[39mSTRING()])) \\\n\u001B[1;32m      6\u001B[0m     \u001B[38;5;241m.\u001B[39mbuild()\n\u001B[0;32m----> 8\u001B[0m kafka_consumer \u001B[38;5;241m=\u001B[39m \u001B[43mFlinkKafkaConsumer\u001B[49m\u001B[43m(\u001B[49m\n\u001B[1;32m      9\u001B[0m \u001B[43m    \u001B[49m\u001B[43mtopics\u001B[49m\u001B[38;5;241;43m=\u001B[39;49m\u001B[43mprice_topic\u001B[49m\u001B[43m,\u001B[49m\n\u001B[1;32m     10\u001B[0m \u001B[43m    \u001B[49m\u001B[43mdeserialization_schema\u001B[49m\u001B[38;5;241;43m=\u001B[39;49m\u001B[43mdeserialization_schema\u001B[49m\u001B[43m,\u001B[49m\n\u001B[1;32m     11\u001B[0m \u001B[43m    \u001B[49m\u001B[43mproperties\u001B[49m\u001B[38;5;241;43m=\u001B[39;49m\u001B[43m{\u001B[49m\u001B[38;5;124;43m'\u001B[39;49m\u001B[38;5;124;43mbootstrap.servers\u001B[39;49m\u001B[38;5;124;43m'\u001B[39;49m\u001B[43m:\u001B[49m\u001B[43m \u001B[49m\u001B[43mkafka_brokers\u001B[49m\u001B[43m,\u001B[49m\u001B[43m \u001B[49m\u001B[38;5;124;43m'\u001B[39;49m\u001B[38;5;124;43mgroup.id\u001B[39;49m\u001B[38;5;124;43m'\u001B[39;49m\u001B[43m:\u001B[49m\u001B[43m \u001B[49m\u001B[38;5;124;43m'\u001B[39;49m\u001B[38;5;124;43mtest_group_1\u001B[39;49m\u001B[38;5;124;43m'\u001B[39;49m\u001B[43m}\u001B[49m\n\u001B[1;32m     12\u001B[0m \u001B[43m)\u001B[49m\n\u001B[1;32m     14\u001B[0m kafka_consumer\u001B[38;5;241m.\u001B[39mset_start_from_earliest()\n\u001B[1;32m     16\u001B[0m env\u001B[38;5;241m.\u001B[39madd_source(kafka_consumer)\u001B[38;5;241m.\u001B[39mprint()\n",
      "File \u001B[0;32m~/Projects/kafka-summit-2024/notebook/venv/lib/python3.9/site-packages/pyflink/datastream/connectors/kafka.py:203\u001B[0m, in \u001B[0;36mFlinkKafkaConsumer.__init__\u001B[0;34m(self, topics, deserialization_schema, properties)\u001B[0m\n\u001B[1;32m    200\u001B[0m warnings\u001B[38;5;241m.\u001B[39mwarn(\u001B[38;5;124m\"\u001B[39m\u001B[38;5;124mDeprecated in 1.16. Use KafkaSource instead.\u001B[39m\u001B[38;5;124m\"\u001B[39m, \u001B[38;5;167;01mDeprecationWarning\u001B[39;00m)\n\u001B[1;32m    201\u001B[0m JFlinkKafkaConsumer \u001B[38;5;241m=\u001B[39m get_gateway()\u001B[38;5;241m.\u001B[39mjvm \\\n\u001B[1;32m    202\u001B[0m     \u001B[38;5;241m.\u001B[39morg\u001B[38;5;241m.\u001B[39mapache\u001B[38;5;241m.\u001B[39mflink\u001B[38;5;241m.\u001B[39mstreaming\u001B[38;5;241m.\u001B[39mconnectors\u001B[38;5;241m.\u001B[39mkafka\u001B[38;5;241m.\u001B[39mFlinkKafkaConsumer\n\u001B[0;32m--> 203\u001B[0m j_flink_kafka_consumer \u001B[38;5;241m=\u001B[39m \u001B[43m_get_kafka_consumer\u001B[49m\u001B[43m(\u001B[49m\u001B[43mtopics\u001B[49m\u001B[43m,\u001B[49m\u001B[43m \u001B[49m\u001B[43mproperties\u001B[49m\u001B[43m,\u001B[49m\u001B[43m \u001B[49m\u001B[43mdeserialization_schema\u001B[49m\u001B[43m,\u001B[49m\n\u001B[1;32m    204\u001B[0m \u001B[43m                                             \u001B[49m\u001B[43mJFlinkKafkaConsumer\u001B[49m\u001B[43m)\u001B[49m\n\u001B[1;32m    205\u001B[0m \u001B[38;5;28msuper\u001B[39m(FlinkKafkaConsumer, \u001B[38;5;28mself\u001B[39m)\u001B[38;5;241m.\u001B[39m\u001B[38;5;21m__init__\u001B[39m(j_flink_kafka_consumer\u001B[38;5;241m=\u001B[39mj_flink_kafka_consumer)\n",
      "File \u001B[0;32m~/Projects/kafka-summit-2024/notebook/venv/lib/python3.9/site-packages/pyflink/datastream/connectors/kafka.py:161\u001B[0m, in \u001B[0;36m_get_kafka_consumer\u001B[0;34m(topics, properties, deserialization_schema, j_consumer_clz)\u001B[0m\n\u001B[1;32m    158\u001B[0m \u001B[38;5;28;01mfor\u001B[39;00m key, value \u001B[38;5;129;01min\u001B[39;00m properties\u001B[38;5;241m.\u001B[39mitems():\n\u001B[1;32m    159\u001B[0m     j_properties\u001B[38;5;241m.\u001B[39msetProperty(key, value)\n\u001B[0;32m--> 161\u001B[0m j_flink_kafka_consumer \u001B[38;5;241m=\u001B[39m \u001B[43mj_consumer_clz\u001B[49m\u001B[43m(\u001B[49m\u001B[43mtopics\u001B[49m\u001B[43m,\u001B[49m\n\u001B[1;32m    162\u001B[0m \u001B[43m                                        \u001B[49m\u001B[43mdeserialization_schema\u001B[49m\u001B[38;5;241;43m.\u001B[39;49m\u001B[43m_j_deserialization_schema\u001B[49m\u001B[43m,\u001B[49m\n\u001B[1;32m    163\u001B[0m \u001B[43m                                        \u001B[49m\u001B[43mj_properties\u001B[49m\u001B[43m)\u001B[49m\n\u001B[1;32m    164\u001B[0m \u001B[38;5;28;01mreturn\u001B[39;00m j_flink_kafka_consumer\n",
      "File \u001B[0;32m~/Projects/kafka-summit-2024/notebook/venv/lib/python3.9/site-packages/py4j/java_gateway.py:1587\u001B[0m, in \u001B[0;36mJavaClass.__call__\u001B[0;34m(self, *args)\u001B[0m\n\u001B[1;32m   1581\u001B[0m command \u001B[38;5;241m=\u001B[39m proto\u001B[38;5;241m.\u001B[39mCONSTRUCTOR_COMMAND_NAME \u001B[38;5;241m+\u001B[39m\\\n\u001B[1;32m   1582\u001B[0m     \u001B[38;5;28mself\u001B[39m\u001B[38;5;241m.\u001B[39m_command_header \u001B[38;5;241m+\u001B[39m\\\n\u001B[1;32m   1583\u001B[0m     args_command \u001B[38;5;241m+\u001B[39m\\\n\u001B[1;32m   1584\u001B[0m     proto\u001B[38;5;241m.\u001B[39mEND_COMMAND_PART\n\u001B[1;32m   1586\u001B[0m answer \u001B[38;5;241m=\u001B[39m \u001B[38;5;28mself\u001B[39m\u001B[38;5;241m.\u001B[39m_gateway_client\u001B[38;5;241m.\u001B[39msend_command(command)\n\u001B[0;32m-> 1587\u001B[0m return_value \u001B[38;5;241m=\u001B[39m \u001B[43mget_return_value\u001B[49m\u001B[43m(\u001B[49m\n\u001B[1;32m   1588\u001B[0m \u001B[43m    \u001B[49m\u001B[43manswer\u001B[49m\u001B[43m,\u001B[49m\u001B[43m \u001B[49m\u001B[38;5;28;43mself\u001B[39;49m\u001B[38;5;241;43m.\u001B[39;49m\u001B[43m_gateway_client\u001B[49m\u001B[43m,\u001B[49m\u001B[43m \u001B[49m\u001B[38;5;28;43;01mNone\u001B[39;49;00m\u001B[43m,\u001B[49m\u001B[43m \u001B[49m\u001B[38;5;28;43mself\u001B[39;49m\u001B[38;5;241;43m.\u001B[39;49m\u001B[43m_fqn\u001B[49m\u001B[43m)\u001B[49m\n\u001B[1;32m   1590\u001B[0m \u001B[38;5;28;01mfor\u001B[39;00m temp_arg \u001B[38;5;129;01min\u001B[39;00m temp_args:\n\u001B[1;32m   1591\u001B[0m     \u001B[38;5;28;01mif\u001B[39;00m \u001B[38;5;28mhasattr\u001B[39m(temp_arg, \u001B[38;5;124m\"\u001B[39m\u001B[38;5;124m_detach\u001B[39m\u001B[38;5;124m\"\u001B[39m):\n",
      "File \u001B[0;32m~/Projects/kafka-summit-2024/notebook/venv/lib/python3.9/site-packages/pyflink/util/exceptions.py:146\u001B[0m, in \u001B[0;36mcapture_java_exception.<locals>.deco\u001B[0;34m(*a, **kw)\u001B[0m\n\u001B[1;32m    144\u001B[0m \u001B[38;5;28;01mdef\u001B[39;00m \u001B[38;5;21mdeco\u001B[39m(\u001B[38;5;241m*\u001B[39ma, \u001B[38;5;241m*\u001B[39m\u001B[38;5;241m*\u001B[39mkw):\n\u001B[1;32m    145\u001B[0m     \u001B[38;5;28;01mtry\u001B[39;00m:\n\u001B[0;32m--> 146\u001B[0m         \u001B[38;5;28;01mreturn\u001B[39;00m \u001B[43mf\u001B[49m\u001B[43m(\u001B[49m\u001B[38;5;241;43m*\u001B[39;49m\u001B[43ma\u001B[49m\u001B[43m,\u001B[49m\u001B[43m \u001B[49m\u001B[38;5;241;43m*\u001B[39;49m\u001B[38;5;241;43m*\u001B[39;49m\u001B[43mkw\u001B[49m\u001B[43m)\u001B[49m\n\u001B[1;32m    147\u001B[0m     \u001B[38;5;28;01mexcept\u001B[39;00m Py4JJavaError \u001B[38;5;28;01mas\u001B[39;00m e:\n\u001B[1;32m    148\u001B[0m         \u001B[38;5;28;01mfrom\u001B[39;00m \u001B[38;5;21;01mpyflink\u001B[39;00m\u001B[38;5;21;01m.\u001B[39;00m\u001B[38;5;21;01mjava_gateway\u001B[39;00m \u001B[38;5;28;01mimport\u001B[39;00m get_gateway\n",
      "File \u001B[0;32m~/Projects/kafka-summit-2024/notebook/venv/lib/python3.9/site-packages/py4j/protocol.py:326\u001B[0m, in \u001B[0;36mget_return_value\u001B[0;34m(answer, gateway_client, target_id, name)\u001B[0m\n\u001B[1;32m    324\u001B[0m value \u001B[38;5;241m=\u001B[39m OUTPUT_CONVERTER[\u001B[38;5;28mtype\u001B[39m](answer[\u001B[38;5;241m2\u001B[39m:], gateway_client)\n\u001B[1;32m    325\u001B[0m \u001B[38;5;28;01mif\u001B[39;00m answer[\u001B[38;5;241m1\u001B[39m] \u001B[38;5;241m==\u001B[39m REFERENCE_TYPE:\n\u001B[0;32m--> 326\u001B[0m     \u001B[38;5;28;01mraise\u001B[39;00m Py4JJavaError(\n\u001B[1;32m    327\u001B[0m         \u001B[38;5;124m\"\u001B[39m\u001B[38;5;124mAn error occurred while calling \u001B[39m\u001B[38;5;132;01m{0}\u001B[39;00m\u001B[38;5;132;01m{1}\u001B[39;00m\u001B[38;5;132;01m{2}\u001B[39;00m\u001B[38;5;124m.\u001B[39m\u001B[38;5;130;01m\\n\u001B[39;00m\u001B[38;5;124m\"\u001B[39m\u001B[38;5;241m.\u001B[39m\n\u001B[1;32m    328\u001B[0m         \u001B[38;5;28mformat\u001B[39m(target_id, \u001B[38;5;124m\"\u001B[39m\u001B[38;5;124m.\u001B[39m\u001B[38;5;124m\"\u001B[39m, name), value)\n\u001B[1;32m    329\u001B[0m \u001B[38;5;28;01melse\u001B[39;00m:\n\u001B[1;32m    330\u001B[0m     \u001B[38;5;28;01mraise\u001B[39;00m Py4JError(\n\u001B[1;32m    331\u001B[0m         \u001B[38;5;124m\"\u001B[39m\u001B[38;5;124mAn error occurred while calling \u001B[39m\u001B[38;5;132;01m{0}\u001B[39;00m\u001B[38;5;132;01m{1}\u001B[39;00m\u001B[38;5;132;01m{2}\u001B[39;00m\u001B[38;5;124m. Trace:\u001B[39m\u001B[38;5;130;01m\\n\u001B[39;00m\u001B[38;5;132;01m{3}\u001B[39;00m\u001B[38;5;130;01m\\n\u001B[39;00m\u001B[38;5;124m\"\u001B[39m\u001B[38;5;241m.\u001B[39m\n\u001B[1;32m    332\u001B[0m         \u001B[38;5;28mformat\u001B[39m(target_id, \u001B[38;5;124m\"\u001B[39m\u001B[38;5;124m.\u001B[39m\u001B[38;5;124m\"\u001B[39m, name, value))\n",
      "\u001B[0;31mPy4JJavaError\u001B[0m: An error occurred while calling None.org.apache.flink.streaming.connectors.kafka.FlinkKafkaConsumer.\n: java.lang.NoClassDefFoundError: org/apache/kafka/common/serialization/ByteArrayDeserializer\n\tat org.apache.flink.streaming.connectors.kafka.FlinkKafkaConsumer.setDeserializer(FlinkKafkaConsumer.java:323)\n\tat org.apache.flink.streaming.connectors.kafka.FlinkKafkaConsumer.<init>(FlinkKafkaConsumer.java:224)\n\tat org.apache.flink.streaming.connectors.kafka.FlinkKafkaConsumer.<init>(FlinkKafkaConsumer.java:155)\n\tat org.apache.flink.streaming.connectors.kafka.FlinkKafkaConsumer.<init>(FlinkKafkaConsumer.java:140)\n\tat java.base/jdk.internal.reflect.NativeConstructorAccessorImpl.newInstance0(Native Method)\n\tat java.base/jdk.internal.reflect.NativeConstructorAccessorImpl.newInstance(NativeConstructorAccessorImpl.java:77)\n\tat java.base/jdk.internal.reflect.DelegatingConstructorAccessorImpl.newInstance(DelegatingConstructorAccessorImpl.java:45)\n\tat java.base/java.lang.reflect.Constructor.newInstanceWithCaller(Constructor.java:499)\n\tat java.base/java.lang.reflect.Constructor.newInstance(Constructor.java:480)\n\tat org.apache.flink.api.python.shaded.py4j.reflection.MethodInvoker.invoke(MethodInvoker.java:247)\n\tat org.apache.flink.api.python.shaded.py4j.reflection.ReflectionEngine.invoke(ReflectionEngine.java:374)\n\tat org.apache.flink.api.python.shaded.py4j.Gateway.invoke(Gateway.java:238)\n\tat org.apache.flink.api.python.shaded.py4j.commands.ConstructorCommand.invokeConstructor(ConstructorCommand.java:80)\n\tat org.apache.flink.api.python.shaded.py4j.commands.ConstructorCommand.execute(ConstructorCommand.java:69)\n\tat org.apache.flink.api.python.shaded.py4j.GatewayConnection.run(GatewayConnection.java:238)\n\tat java.base/java.lang.Thread.run(Thread.java:840)\nCaused by: java.lang.ClassNotFoundException: org.apache.kafka.common.serialization.ByteArrayDeserializer\n\t... 16 more\n"
     ]
    }
   ],
   "source": [
    "kafka_brokers = config_obj['kafka.brokers']\n",
    "price_topic = config_obj['kafka.topic.price.name']\n",
    "\n",
    "deserialization_schema = JsonRowDeserializationSchema.Builder() \\\n",
    "    .type_info(Types.ROW([Types.STRING(), Types.STRING()])) \\\n",
    "    .build()\n",
    "\n",
    "kafka_consumer = FlinkKafkaConsumer(\n",
    "    topics=price_topic,\n",
    "    deserialization_schema=deserialization_schema,\n",
    "    properties={'bootstrap.servers': kafka_brokers, 'group.id': 'test_group_1'}\n",
    ")\n",
    "\n",
    "kafka_consumer.set_start_from_earliest()\n",
    "\n",
    "env.add_source(kafka_consumer).print()\n"
   ],
   "metadata": {
    "collapsed": false,
    "ExecuteTime": {
     "end_time": "2024-03-21T08:52:56.561204Z",
     "start_time": "2024-03-21T08:52:56.283998Z"
    }
   },
   "id": "23115a2bc3852c9",
   "execution_count": 18
  },
  {
   "cell_type": "code",
   "outputs": [],
   "source": [
    "env.execute()"
   ],
   "metadata": {
    "collapsed": false
   },
   "id": "fd1f14d09ad212e6"
  }
 ],
 "metadata": {
  "kernelspec": {
   "display_name": "Python 3",
   "language": "python",
   "name": "python3"
  },
  "language_info": {
   "codemirror_mode": {
    "name": "ipython",
    "version": 2
   },
   "file_extension": ".py",
   "mimetype": "text/x-python",
   "name": "python",
   "nbconvert_exporter": "python",
   "pygments_lexer": "ipython2",
   "version": "2.7.6"
  }
 },
 "nbformat": 4,
 "nbformat_minor": 5
}
